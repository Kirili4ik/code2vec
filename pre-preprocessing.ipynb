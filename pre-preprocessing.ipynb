{
 "cells": [
  {
   "cell_type": "code",
   "execution_count": 17,
   "metadata": {},
   "outputs": [],
   "source": [
    "import pandas as pd\n",
    "import numpy as np"
   ]
  },
  {
   "cell_type": "code",
   "execution_count": 47,
   "metadata": {},
   "outputs": [
    {
     "data": {
      "text/html": [
       "<div>\n",
       "<style scoped>\n",
       "    .dataframe tbody tr th:only-of-type {\n",
       "        vertical-align: middle;\n",
       "    }\n",
       "\n",
       "    .dataframe tbody tr th {\n",
       "        vertical-align: top;\n",
       "    }\n",
       "\n",
       "    .dataframe thead th {\n",
       "        text-align: right;\n",
       "    }\n",
       "</style>\n",
       "<table border=\"1\" class=\"dataframe\">\n",
       "  <thead>\n",
       "    <tr style=\"text-align: right;\">\n",
       "      <th></th>\n",
       "      <th>code_block</th>\n",
       "      <th>tag</th>\n",
       "    </tr>\n",
       "  </thead>\n",
       "  <tbody>\n",
       "    <tr>\n",
       "      <th>0</th>\n",
       "      <td>\\nimport pandas as pd\\nimport matplotlib.pyplo...</td>\n",
       "      <td>['invite people for the kaggle party']</td>\n",
       "    </tr>\n",
       "    <tr>\n",
       "      <th>1</th>\n",
       "      <td>\\ndf_train = pd.read_csv('../input/train.csv'),</td>\n",
       "      <td>['bring in the six packs']</td>\n",
       "    </tr>\n",
       "    <tr>\n",
       "      <th>2</th>\n",
       "      <td>\\ndf_train.columns,</td>\n",
       "      <td>['check the decoration']</td>\n",
       "    </tr>\n",
       "    <tr>\n",
       "      <th>3</th>\n",
       "      <td>\\ndf_train['SalePrice'].describe(),</td>\n",
       "      <td>['descriptive statistics summary']</td>\n",
       "    </tr>\n",
       "    <tr>\n",
       "      <th>4</th>\n",
       "      <td>\\nsns.distplot(df_train['SalePrice']);,</td>\n",
       "      <td>['histogram']</td>\n",
       "    </tr>\n",
       "  </tbody>\n",
       "</table>\n",
       "</div>"
      ],
      "text/plain": [
       "                                          code_block  \\\n",
       "0  \\nimport pandas as pd\\nimport matplotlib.pyplo...   \n",
       "1    \\ndf_train = pd.read_csv('../input/train.csv'),   \n",
       "2                                \\ndf_train.columns,   \n",
       "3                \\ndf_train['SalePrice'].describe(),   \n",
       "4            \\nsns.distplot(df_train['SalePrice']);,   \n",
       "\n",
       "                                      tag  \n",
       "0  ['invite people for the kaggle party']  \n",
       "1              ['bring in the six packs']  \n",
       "2                ['check the decoration']  \n",
       "3      ['descriptive statistics summary']  \n",
       "4                           ['histogram']  "
      ]
     },
     "execution_count": 47,
     "metadata": {},
     "output_type": "execute_result"
    }
   ],
   "source": [
    "data = pd.read_csv('code_blocks_big.csv', sep='\\t')\n",
    "data.head()"
   ]
  },
  {
   "cell_type": "markdown",
   "metadata": {},
   "source": [
    "Уникальных тегов:"
   ]
  },
  {
   "cell_type": "code",
   "execution_count": 48,
   "metadata": {},
   "outputs": [
    {
     "data": {
      "text/plain": [
       "102123"
      ]
     },
     "execution_count": 48,
     "metadata": {},
     "output_type": "execute_result"
    }
   ],
   "source": [
    "data['tag'].nunique()"
   ]
  },
  {
   "cell_type": "markdown",
   "metadata": {},
   "source": [
    "Размер:"
   ]
  },
  {
   "cell_type": "code",
   "execution_count": 49,
   "metadata": {
    "scrolled": true
   },
   "outputs": [
    {
     "data": {
      "text/plain": [
       "(213535,)"
      ]
     },
     "execution_count": 49,
     "metadata": {},
     "output_type": "execute_result"
    }
   ],
   "source": [
    "data['tag'].shape"
   ]
  },
  {
   "cell_type": "markdown",
   "metadata": {},
   "source": [
    "### Оставляем по одному комментарию"
   ]
  },
  {
   "cell_type": "markdown",
   "metadata": {},
   "source": [
    "**Важно:** если у вас в табличке есть колонка 'Unnamed 0:' или вообще какая то лишняя, то дропайте ее до этого цикла (почему-то это сильно влияет на производительность)"
   ]
  },
  {
   "cell_type": "markdown",
   "metadata": {},
   "source": [
    "Тут из нескольких комментариев выбирается самый короткий (обосновано тем, что тогда он с большей вероятностью встречается часто ака больше похож на метку). Отсекаются пробелы и всякие пустые метки."
   ]
  },
  {
   "cell_type": "code",
   "execution_count": 54,
   "metadata": {},
   "outputs": [],
   "source": [
    "from tqdm import tqdm\n",
    "all_to_del = set(['', \"['']\", ' ', '  ', \"[' ']\", '        ', '     ', '    ', '   ', \"['', ' ']\", '       ', '      ', \\\n",
    "             '             ', '         ', '          ', \"']\",\\\n",
    "                 \"['   \", \"['\", \"[' \", \"['  \", \"['    \", \"['    \"])\n",
    "rows_to_del = []"
   ]
  },
  {
   "cell_type": "code",
   "execution_count": 56,
   "metadata": {
    "scrolled": true
   },
   "outputs": [
    {
     "name": "stderr",
     "output_type": "stream",
     "text": [
      "100%|██████████| 213535/213535 [00:41<00:00, 5121.12it/s]\n"
     ]
    }
   ],
   "source": [
    "for i in tqdm(range(data.shape[0])):\n",
    "    my_string = data.loc[i, 'tag']\n",
    "    \n",
    "    if (my_string is not np.nan) and my_string is not None:\n",
    "        min_len = len(data.loc[i, 'tag']) + 10\n",
    "        min_el = None\n",
    "        s = set(list(map(str, my_string.split(\"', '\"))))\n",
    "\n",
    "        for el in s:\n",
    "            if el not in all_to_del and len(el) < min_len:\n",
    "                min_len = len(el)\n",
    "                min_el = el\n",
    "\n",
    "        if min_el is not None:\n",
    "            data.loc[i, 'tag'] = min_el\n",
    "        else:\n",
    "            rows_to_del.append(i)\n",
    "    else:\n",
    "        rows_to_del.append(i)"
   ]
  },
  {
   "cell_type": "markdown",
   "metadata": {},
   "source": [
    "Было:"
   ]
  },
  {
   "cell_type": "code",
   "execution_count": 57,
   "metadata": {
    "scrolled": true
   },
   "outputs": [
    {
     "data": {
      "text/plain": [
       "(213535, 2)"
      ]
     },
     "execution_count": 57,
     "metadata": {},
     "output_type": "execute_result"
    }
   ],
   "source": [
    "data.shape"
   ]
  },
  {
   "cell_type": "code",
   "execution_count": 58,
   "metadata": {
    "scrolled": true
   },
   "outputs": [],
   "source": [
    "data = data.drop(rows_to_del)"
   ]
  },
  {
   "cell_type": "markdown",
   "metadata": {},
   "source": [
    "Осталось:"
   ]
  },
  {
   "cell_type": "code",
   "execution_count": 59,
   "metadata": {
    "scrolled": true
   },
   "outputs": [
    {
     "data": {
      "text/plain": [
       "(212459, 2)"
      ]
     },
     "execution_count": 59,
     "metadata": {},
     "output_type": "execute_result"
    }
   ],
   "source": [
    "data.shape"
   ]
  },
  {
   "cell_type": "code",
   "execution_count": 60,
   "metadata": {},
   "outputs": [],
   "source": [
    "data = data.reset_index()"
   ]
  },
  {
   "cell_type": "code",
   "execution_count": 62,
   "metadata": {},
   "outputs": [
    {
     "data": {
      "text/html": [
       "<div>\n",
       "<style scoped>\n",
       "    .dataframe tbody tr th:only-of-type {\n",
       "        vertical-align: middle;\n",
       "    }\n",
       "\n",
       "    .dataframe tbody tr th {\n",
       "        vertical-align: top;\n",
       "    }\n",
       "\n",
       "    .dataframe thead th {\n",
       "        text-align: right;\n",
       "    }\n",
       "</style>\n",
       "<table border=\"1\" class=\"dataframe\">\n",
       "  <thead>\n",
       "    <tr style=\"text-align: right;\">\n",
       "      <th></th>\n",
       "      <th>code_block</th>\n",
       "      <th>tag</th>\n",
       "    </tr>\n",
       "  </thead>\n",
       "  <tbody>\n",
       "    <tr>\n",
       "      <th>0</th>\n",
       "      <td>\\nimport pandas as pd\\nimport matplotlib.pyplo...</td>\n",
       "      <td>['invite people for the kaggle party']</td>\n",
       "    </tr>\n",
       "    <tr>\n",
       "      <th>1</th>\n",
       "      <td>\\ndf_train = pd.read_csv('../input/train.csv'),</td>\n",
       "      <td>['bring in the six packs']</td>\n",
       "    </tr>\n",
       "    <tr>\n",
       "      <th>2</th>\n",
       "      <td>\\ndf_train.columns,</td>\n",
       "      <td>['check the decoration']</td>\n",
       "    </tr>\n",
       "    <tr>\n",
       "      <th>3</th>\n",
       "      <td>\\ndf_train['SalePrice'].describe(),</td>\n",
       "      <td>['descriptive statistics summary']</td>\n",
       "    </tr>\n",
       "    <tr>\n",
       "      <th>4</th>\n",
       "      <td>\\nsns.distplot(df_train['SalePrice']);,</td>\n",
       "      <td>['histogram']</td>\n",
       "    </tr>\n",
       "  </tbody>\n",
       "</table>\n",
       "</div>"
      ],
      "text/plain": [
       "                                          code_block  \\\n",
       "0  \\nimport pandas as pd\\nimport matplotlib.pyplo...   \n",
       "1    \\ndf_train = pd.read_csv('../input/train.csv'),   \n",
       "2                                \\ndf_train.columns,   \n",
       "3                \\ndf_train['SalePrice'].describe(),   \n",
       "4            \\nsns.distplot(df_train['SalePrice']);,   \n",
       "\n",
       "                                      tag  \n",
       "0  ['invite people for the kaggle party']  \n",
       "1              ['bring in the six packs']  \n",
       "2                ['check the decoration']  \n",
       "3      ['descriptive statistics summary']  \n",
       "4                           ['histogram']  "
      ]
     },
     "execution_count": 62,
     "metadata": {},
     "output_type": "execute_result"
    }
   ],
   "source": [
    "data.drop(columns=['index'], axis=1, inplace=True)\n",
    "data.head()"
   ]
  },
  {
   "cell_type": "markdown",
   "metadata": {},
   "source": [
    "________"
   ]
  },
  {
   "cell_type": "markdown",
   "metadata": {},
   "source": [
    "### Предобработка текста"
   ]
  },
  {
   "cell_type": "code",
   "execution_count": 64,
   "metadata": {},
   "outputs": [],
   "source": [
    "import re\n",
    "def clear_tag(tag):\n",
    "    tag = tag.replace(' ', '_')\n",
    "    return re.sub('[^A-Za-z0-9_]+', '',tag) # replace spaces with \"_\" and removes other punctuation"
   ]
  },
  {
   "cell_type": "code",
   "execution_count": 82,
   "metadata": {},
   "outputs": [
    {
     "data": {
      "text/html": [
       "<div>\n",
       "<style scoped>\n",
       "    .dataframe tbody tr th:only-of-type {\n",
       "        vertical-align: middle;\n",
       "    }\n",
       "\n",
       "    .dataframe tbody tr th {\n",
       "        vertical-align: top;\n",
       "    }\n",
       "\n",
       "    .dataframe thead th {\n",
       "        text-align: right;\n",
       "    }\n",
       "</style>\n",
       "<table border=\"1\" class=\"dataframe\">\n",
       "  <thead>\n",
       "    <tr style=\"text-align: right;\">\n",
       "      <th></th>\n",
       "      <th>code_block</th>\n",
       "      <th>tag</th>\n",
       "    </tr>\n",
       "  </thead>\n",
       "  <tbody>\n",
       "    <tr>\n",
       "      <th>0</th>\n",
       "      <td>\\nimport pandas as pd\\nimport matplotlib.pyplo...</td>\n",
       "      <td>invite_people_for_the_kaggle_party</td>\n",
       "    </tr>\n",
       "    <tr>\n",
       "      <th>1</th>\n",
       "      <td>\\ndf_train = pd.read_csv('../input/train.csv'),</td>\n",
       "      <td>bring_in_the_six_packs</td>\n",
       "    </tr>\n",
       "    <tr>\n",
       "      <th>2</th>\n",
       "      <td>\\ndf_train.columns,</td>\n",
       "      <td>check_the_decoration</td>\n",
       "    </tr>\n",
       "    <tr>\n",
       "      <th>3</th>\n",
       "      <td>\\ndf_train['SalePrice'].describe(),</td>\n",
       "      <td>descriptive_statistics_summary</td>\n",
       "    </tr>\n",
       "    <tr>\n",
       "      <th>6</th>\n",
       "      <td>\\nvar = 'GrLivArea'\\ndata = pd.concat([df_trai...</td>\n",
       "      <td>scatter_plot_grlivareasaleprice</td>\n",
       "    </tr>\n",
       "  </tbody>\n",
       "</table>\n",
       "</div>"
      ],
      "text/plain": [
       "                                          code_block  \\\n",
       "0  \\nimport pandas as pd\\nimport matplotlib.pyplo...   \n",
       "1    \\ndf_train = pd.read_csv('../input/train.csv'),   \n",
       "2                                \\ndf_train.columns,   \n",
       "3                \\ndf_train['SalePrice'].describe(),   \n",
       "6  \\nvar = 'GrLivArea'\\ndata = pd.concat([df_trai...   \n",
       "\n",
       "                                  tag  \n",
       "0  invite_people_for_the_kaggle_party  \n",
       "1              bring_in_the_six_packs  \n",
       "2                check_the_decoration  \n",
       "3      descriptive_statistics_summary  \n",
       "6     scatter_plot_grlivareasaleprice  "
      ]
     },
     "execution_count": 82,
     "metadata": {},
     "output_type": "execute_result"
    }
   ],
   "source": [
    "data['tag'] = list(map(clear_tag, data['tag'])) # apply function\n",
    "data.head()"
   ]
  },
  {
   "cell_type": "code",
   "execution_count": 66,
   "metadata": {},
   "outputs": [],
   "source": [
    "def clear_first(tag):\n",
    "    if tag is not np.nan and tag is not None \\\n",
    "            and len(tag) > 0 and tag[0] == '_':\n",
    "        return tag[1:]\n",
    "    else:\n",
    "        return tag"
   ]
  },
  {
   "cell_type": "code",
   "execution_count": 81,
   "metadata": {},
   "outputs": [
    {
     "data": {
      "text/html": [
       "<div>\n",
       "<style scoped>\n",
       "    .dataframe tbody tr th:only-of-type {\n",
       "        vertical-align: middle;\n",
       "    }\n",
       "\n",
       "    .dataframe tbody tr th {\n",
       "        vertical-align: top;\n",
       "    }\n",
       "\n",
       "    .dataframe thead th {\n",
       "        text-align: right;\n",
       "    }\n",
       "</style>\n",
       "<table border=\"1\" class=\"dataframe\">\n",
       "  <thead>\n",
       "    <tr style=\"text-align: right;\">\n",
       "      <th></th>\n",
       "      <th>code_block</th>\n",
       "      <th>tag</th>\n",
       "    </tr>\n",
       "  </thead>\n",
       "  <tbody>\n",
       "    <tr>\n",
       "      <th>0</th>\n",
       "      <td>\\nimport pandas as pd\\nimport matplotlib.pyplo...</td>\n",
       "      <td>invite_people_for_the_kaggle_party</td>\n",
       "    </tr>\n",
       "    <tr>\n",
       "      <th>1</th>\n",
       "      <td>\\ndf_train = pd.read_csv('../input/train.csv'),</td>\n",
       "      <td>bring_in_the_six_packs</td>\n",
       "    </tr>\n",
       "    <tr>\n",
       "      <th>2</th>\n",
       "      <td>\\ndf_train.columns,</td>\n",
       "      <td>check_the_decoration</td>\n",
       "    </tr>\n",
       "    <tr>\n",
       "      <th>3</th>\n",
       "      <td>\\ndf_train['SalePrice'].describe(),</td>\n",
       "      <td>descriptive_statistics_summary</td>\n",
       "    </tr>\n",
       "    <tr>\n",
       "      <th>6</th>\n",
       "      <td>\\nvar = 'GrLivArea'\\ndata = pd.concat([df_trai...</td>\n",
       "      <td>scatter_plot_grlivareasaleprice</td>\n",
       "    </tr>\n",
       "  </tbody>\n",
       "</table>\n",
       "</div>"
      ],
      "text/plain": [
       "                                          code_block  \\\n",
       "0  \\nimport pandas as pd\\nimport matplotlib.pyplo...   \n",
       "1    \\ndf_train = pd.read_csv('../input/train.csv'),   \n",
       "2                                \\ndf_train.columns,   \n",
       "3                \\ndf_train['SalePrice'].describe(),   \n",
       "6  \\nvar = 'GrLivArea'\\ndata = pd.concat([df_trai...   \n",
       "\n",
       "                                  tag  \n",
       "0  invite_people_for_the_kaggle_party  \n",
       "1              bring_in_the_six_packs  \n",
       "2                check_the_decoration  \n",
       "3      descriptive_statistics_summary  \n",
       "6     scatter_plot_grlivareasaleprice  "
      ]
     },
     "execution_count": 81,
     "metadata": {},
     "output_type": "execute_result"
    }
   ],
   "source": [
    "data['tag'] = list(map(clear_first, data['tag'])) # clears first symbol if it's \"_\"\n",
    "data.head()"
   ]
  },
  {
   "cell_type": "code",
   "execution_count": 69,
   "metadata": {},
   "outputs": [],
   "source": [
    "data = data[data['tag'] != '']\n",
    "data = data[data['tag'] != '_']\n",
    "data = data[data['tag'] != '__']\n",
    "data = data[data['tag'] != '___']\n",
    "data = data[data['tag'] != '____']\n",
    "data = data[data['tag'] != '_____']"
   ]
  },
  {
   "cell_type": "markdown",
   "metadata": {},
   "source": [
    "Осталось уже:"
   ]
  },
  {
   "cell_type": "code",
   "execution_count": 70,
   "metadata": {},
   "outputs": [
    {
     "data": {
      "text/plain": [
       "(211495, 2)"
      ]
     },
     "execution_count": 70,
     "metadata": {},
     "output_type": "execute_result"
    }
   ],
   "source": [
    "data.shape"
   ]
  },
  {
   "cell_type": "markdown",
   "metadata": {},
   "source": [
    "_____________"
   ]
  },
  {
   "cell_type": "markdown",
   "metadata": {},
   "source": [
    "### Оставим какие-то самые популярные метки"
   ]
  },
  {
   "cell_type": "code",
   "execution_count": 74,
   "metadata": {},
   "outputs": [
    {
     "data": {
      "text/plain": [
       "76947"
      ]
     },
     "execution_count": 74,
     "metadata": {},
     "output_type": "execute_result"
    }
   ],
   "source": [
    "data['tag'].nunique()"
   ]
  },
  {
   "cell_type": "code",
   "execution_count": 75,
   "metadata": {},
   "outputs": [],
   "source": [
    "from collections import Counter\n",
    "\n",
    "mc = Counter(data['tag']).most_common(5000)"
   ]
  },
  {
   "cell_type": "code",
   "execution_count": 76,
   "metadata": {},
   "outputs": [],
   "source": [
    "strange_to_del = []"
   ]
  },
  {
   "cell_type": "markdown",
   "metadata": {},
   "source": [
    "Если уникальных блоков кода с этим комментарием меньше 100 (естественно стоит эту константу пробовать менять), то удалим эту метку тк это скорее всего копипаст:"
   ]
  },
  {
   "cell_type": "markdown",
   "metadata": {},
   "source": [
    "Так делаем среди самых популярных 5к тегов чтобы не тратить время на совсем не популярные метки"
   ]
  },
  {
   "cell_type": "code",
   "execution_count": 78,
   "metadata": {},
   "outputs": [
    {
     "name": "stderr",
     "output_type": "stream",
     "text": [
      "100%|██████████| 5000/5000 [00:59<00:00, 84.31it/s]\n"
     ]
    }
   ],
   "source": [
    "for el in tqdm(mc):\n",
    "    if data[data['tag']==el[0]]['code_block'].nunique() < 100:\n",
    "        strange_to_del.append(el[0])"
   ]
  },
  {
   "cell_type": "code",
   "execution_count": 79,
   "metadata": {},
   "outputs": [
    {
     "name": "stderr",
     "output_type": "stream",
     "text": [
      "100%|██████████| 4955/4955 [02:19<00:00, 35.62it/s]\n"
     ]
    }
   ],
   "source": [
    "for el in tqdm(strange_to_del):\n",
    "    data = data[data['tag'] != el]"
   ]
  },
  {
   "cell_type": "markdown",
   "metadata": {},
   "source": [
    "Здесь естественно теряется много данных:"
   ]
  },
  {
   "cell_type": "code",
   "execution_count": 83,
   "metadata": {},
   "outputs": [
    {
     "data": {
      "text/plain": [
       "(127996, 2)"
      ]
     },
     "execution_count": 83,
     "metadata": {},
     "output_type": "execute_result"
    }
   ],
   "source": [
    "data.shape"
   ]
  },
  {
   "cell_type": "markdown",
   "metadata": {},
   "source": [
    "Заметим, что выкинули 4955 меток из самых популярных 5000, поэтому оставим 45 самых популярных:"
   ]
  },
  {
   "cell_type": "code",
   "execution_count": 86,
   "metadata": {
    "scrolled": true
   },
   "outputs": [
    {
     "data": {
      "text/plain": [
       "[('linear_algebra', 3169),\n",
       " ('specify_none_if_want_to_read_whole_file', 2102),\n",
       " ('check_your_answer', 591),\n",
       " ('model', 573),\n",
       " ('create_x', 559),\n",
       " ('your_code_here', 440),\n",
       " ('fit_rfmodelonfulldata_on_all_data_from_the_training_data', 440),\n",
       " ('preprocessing', 420),\n",
       " ('feature_engineering', 411),\n",
       " ('just_uncomment_them', 404),\n",
       " ('submission', 373),\n",
       " ('load_data', 356),\n",
       " ('random_forest', 322),\n",
       " ('training', 279),\n",
       " ('prediction', 268),\n",
       " ('eda', 241),\n",
       " ('check_your_answers', 226),\n",
       " ('visualization', 213),\n",
       " ('test', 207),\n",
       " ('train', 206),\n",
       " ('data', 203),\n",
       " ('data_preprocessing', 198),\n",
       " ('plot', 197),\n",
       " ('logistic_regression', 196),\n",
       " ('imports', 195),\n",
       " ('predict', 184),\n",
       " ('data_cleaning', 183),\n",
       " ('model_building', 180),\n",
       " ('data_visualization', 176),\n",
       " ('xgboost', 173),\n",
       " ('exploratory_data_analysis', 169),\n",
       " ('data_exploration', 160),\n",
       " ('decision_tree', 149),\n",
       " ('modelling', 144),\n",
       " ('importing_libraries', 141),\n",
       " ('import_data', 137),\n",
       " ('import_libraries', 134),\n",
       " ('input', 132),\n",
       " ('title', 126),\n",
       " ('confusion_matrix', 124),\n",
       " ('modeling', 123),\n",
       " ('linear_regression', 121),\n",
       " ('read_data', 117),\n",
       " ('train_model', 116),\n",
       " ('feature_selection', 106)]"
      ]
     },
     "execution_count": 86,
     "metadata": {},
     "output_type": "execute_result"
    }
   ],
   "source": [
    "Counter(data['tag']).most_common(45)"
   ]
  },
  {
   "cell_type": "markdown",
   "metadata": {},
   "source": [
    "____"
   ]
  },
  {
   "cell_type": "markdown",
   "metadata": {},
   "source": [
    "Здесь еще одна небольшая проверка, чтобы не было копипаста, потому что комментарий в 75 строк совпавший так много раз явно коппаст:"
   ]
  },
  {
   "cell_type": "code",
   "execution_count": 88,
   "metadata": {},
   "outputs": [],
   "source": [
    "al_r_data = data[data['tag'].str.len() < 75]"
   ]
  },
  {
   "cell_type": "code",
   "execution_count": 89,
   "metadata": {},
   "outputs": [
    {
     "name": "stdout",
     "output_type": "stream",
     "text": [
      "(96853, 2)\n",
      "52842\n"
     ]
    }
   ],
   "source": [
    "print(al_r_data.shape)\n",
    "print(al_r_data['tag'].nunique())"
   ]
  },
  {
   "cell_type": "code",
   "execution_count": 91,
   "metadata": {},
   "outputs": [
    {
     "data": {
      "text/plain": [
       "[('linear_algebra', 3169),\n",
       " ('specify_none_if_want_to_read_whole_file', 2102),\n",
       " ('check_your_answer', 591),\n",
       " ('model', 573),\n",
       " ('create_x', 559),\n",
       " ('your_code_here', 440),\n",
       " ('fit_rfmodelonfulldata_on_all_data_from_the_training_data', 440),\n",
       " ('preprocessing', 420),\n",
       " ('feature_engineering', 411),\n",
       " ('just_uncomment_them', 404),\n",
       " ('submission', 373),\n",
       " ('load_data', 356),\n",
       " ('random_forest', 322),\n",
       " ('training', 279),\n",
       " ('prediction', 268),\n",
       " ('eda', 241),\n",
       " ('check_your_answers', 226),\n",
       " ('visualization', 213),\n",
       " ('test', 207),\n",
       " ('train', 206),\n",
       " ('data', 203),\n",
       " ('data_preprocessing', 198),\n",
       " ('plot', 197),\n",
       " ('logistic_regression', 196),\n",
       " ('imports', 195),\n",
       " ('predict', 184),\n",
       " ('data_cleaning', 183),\n",
       " ('model_building', 180),\n",
       " ('data_visualization', 176),\n",
       " ('xgboost', 173),\n",
       " ('exploratory_data_analysis', 169),\n",
       " ('data_exploration', 160),\n",
       " ('decision_tree', 149),\n",
       " ('modelling', 144),\n",
       " ('importing_libraries', 141),\n",
       " ('import_data', 137),\n",
       " ('import_libraries', 134),\n",
       " ('input', 132),\n",
       " ('title', 126),\n",
       " ('confusion_matrix', 124),\n",
       " ('modeling', 123),\n",
       " ('linear_regression', 121),\n",
       " ('read_data', 117),\n",
       " ('train_model', 116),\n",
       " ('feature_selection', 106)]"
      ]
     },
     "execution_count": 91,
     "metadata": {},
     "output_type": "execute_result"
    }
   ],
   "source": [
    "Counter(al_r_data['tag']).most_common(45)"
   ]
  },
  {
   "cell_type": "code",
   "execution_count": 93,
   "metadata": {},
   "outputs": [],
   "source": [
    "# all_to_del - задан вначале ноутбука"
   ]
  },
  {
   "cell_type": "code",
   "execution_count": 94,
   "metadata": {},
   "outputs": [],
   "source": [
    "for to_del in all_to_del:\n",
    "    al_r_data = al_r_data[al_r_data['tag'] != to_del]"
   ]
  },
  {
   "cell_type": "code",
   "execution_count": 95,
   "metadata": {},
   "outputs": [
    {
     "name": "stdout",
     "output_type": "stream",
     "text": [
      "(96853, 2)\n",
      "52842\n"
     ]
    }
   ],
   "source": [
    "print(al_r_data.shape)\n",
    "print(al_r_data['tag'].nunique())"
   ]
  },
  {
   "cell_type": "code",
   "execution_count": 99,
   "metadata": {},
   "outputs": [
    {
     "data": {
      "text/plain": [
       "52797"
      ]
     },
     "execution_count": 99,
     "metadata": {},
     "output_type": "execute_result"
    }
   ],
   "source": [
    "num_tags_to_drop = al_r_data['tag'].nunique() - 45\n",
    "num_tags_to_drop"
   ]
  },
  {
   "cell_type": "markdown",
   "metadata": {},
   "source": [
    "Выкидываю самые непопулярные num_tags_to_drop меток:"
   ]
  },
  {
   "cell_type": "code",
   "execution_count": 101,
   "metadata": {},
   "outputs": [],
   "source": [
    "least_c_tags = set(Counter(al_r_data['tag']).most_common()[-num_tags_to_drop:])"
   ]
  },
  {
   "cell_type": "code",
   "execution_count": 104,
   "metadata": {},
   "outputs": [
    {
     "name": "stderr",
     "output_type": "stream",
     "text": [
      "100%|██████████| 52797/52797 [09:08<00:00, 96.27it/s] \n"
     ]
    }
   ],
   "source": [
    "for el in tqdm(least_c_tags):\n",
    "    al_r_data = al_r_data[al_r_data['tag'] != el[0]]"
   ]
  },
  {
   "cell_type": "markdown",
   "metadata": {},
   "source": [
    "Смотрим что осталось:"
   ]
  },
  {
   "cell_type": "code",
   "execution_count": 105,
   "metadata": {},
   "outputs": [
    {
     "name": "stdout",
     "output_type": "stream",
     "text": [
      "(15684, 2)\n",
      "45\n"
     ]
    }
   ],
   "source": [
    "print(al_r_data.shape)\n",
    "print(al_r_data['tag'].nunique())"
   ]
  },
  {
   "cell_type": "code",
   "execution_count": 107,
   "metadata": {},
   "outputs": [],
   "source": [
    "ready_data = \\\n",
    "al_r_data.reset_index().drop(columns=['index'], axis=1)\n",
    "#ready_data = ready_data.drop(columns=['level_0'], axis=1)"
   ]
  },
  {
   "cell_type": "code",
   "execution_count": 119,
   "metadata": {},
   "outputs": [
    {
     "data": {
      "text/plain": [
       "[('linear_algebra', 3169),\n",
       " ('specify_none_if_want_to_read_whole_file', 2102),\n",
       " ('check_your_answer', 591),\n",
       " ('model', 573),\n",
       " ('create_x', 559),\n",
       " ('your_code_here', 440),\n",
       " ('fit_rfmodelonfulldata_on_all_data_from_the_training_data', 440),\n",
       " ('preprocessing', 420),\n",
       " ('feature_engineering', 411),\n",
       " ('just_uncomment_them', 404)]"
      ]
     },
     "execution_count": 119,
     "metadata": {},
     "output_type": "execute_result"
    }
   ],
   "source": [
    "Counter(ready_data['tag']).most_common()[:10]"
   ]
  },
  {
   "cell_type": "code",
   "execution_count": 117,
   "metadata": {},
   "outputs": [
    {
     "data": {
      "text/plain": [
       "[('import_data', 137),\n",
       " ('import_libraries', 134),\n",
       " ('input', 132),\n",
       " ('title', 126),\n",
       " ('confusion_matrix', 124),\n",
       " ('modeling', 123),\n",
       " ('linear_regression', 121),\n",
       " ('read_data', 117),\n",
       " ('train_model', 116),\n",
       " ('feature_selection', 106)]"
      ]
     },
     "execution_count": 117,
     "metadata": {},
     "output_type": "execute_result"
    }
   ],
   "source": [
    "Counter(ready_data['tag']).most_common()[-10:]"
   ]
  },
  {
   "cell_type": "markdown",
   "metadata": {},
   "source": [
    "**Важное замечение**"
   ]
  },
  {
   "cell_type": "markdown",
   "metadata": {},
   "source": [
    "Тут возникают вопросы например почему 440 комментариев 'fit_rfmodelonfulldata_on_all_data_from_the_training_data', тк казалось бы это очень специфичный комментарий. "
   ]
  },
  {
   "cell_type": "markdown",
   "metadata": {},
   "source": [
    "У меня есть подозрение, что идет копипаст 1 строки с комментарием, а затем что-то немного меняется и поэтому показывает что разных комментариев 100+ с этим тегом"
   ]
  },
  {
   "cell_type": "code",
   "execution_count": 120,
   "metadata": {},
   "outputs": [
    {
     "data": {
      "text/plain": [
       "158"
      ]
     },
     "execution_count": 120,
     "metadata": {},
     "output_type": "execute_result"
    }
   ],
   "source": [
    "ready_data[ready_data['tag'] == 'fit_rfmodelonfulldata_on_all_data_from_the_training_data']['code_block'].nunique()"
   ]
  },
  {
   "cell_type": "markdown",
   "metadata": {},
   "source": [
    "__________________"
   ]
  },
  {
   "cell_type": "markdown",
   "metadata": {},
   "source": [
    "Соотношения train, test, val = 8.5 / 1.5 / 1.5"
   ]
  },
  {
   "cell_type": "markdown",
   "metadata": {},
   "source": [
    "Поделим нацело:"
   ]
  },
  {
   "cell_type": "code",
   "execution_count": 128,
   "metadata": {},
   "outputs": [
    {
     "data": {
      "text/plain": [
       "1425.0"
      ]
     },
     "execution_count": 128,
     "metadata": {},
     "output_type": "execute_result"
    }
   ],
   "source": [
    "(ready_data.shape[0] - 9) / 11"
   ]
  },
  {
   "cell_type": "code",
   "execution_count": 812,
   "metadata": {},
   "outputs": [
    {
     "data": {
      "text/plain": [
       "7"
      ]
     },
     "execution_count": 812,
     "metadata": {},
     "output_type": "execute_result"
    }
   ],
   "source": [
    "18366 - 18359"
   ]
  },
  {
   "cell_type": "code",
   "execution_count": 129,
   "metadata": {},
   "outputs": [],
   "source": [
    "ready_data = ready_data.drop(ready_data.tail(9).index)"
   ]
  },
  {
   "cell_type": "code",
   "execution_count": 130,
   "metadata": {},
   "outputs": [
    {
     "data": {
      "text/plain": [
       "1425.0"
      ]
     },
     "execution_count": 130,
     "metadata": {},
     "output_type": "execute_result"
    }
   ],
   "source": [
    "ready_data.shape[0] / 11"
   ]
  },
  {
   "cell_type": "markdown",
   "metadata": {},
   "source": [
    "То есть размер трейна:"
   ]
  },
  {
   "cell_type": "code",
   "execution_count": 132,
   "metadata": {},
   "outputs": [
    {
     "data": {
      "text/plain": [
       "11400.0"
      ]
     },
     "execution_count": 132,
     "metadata": {},
     "output_type": "execute_result"
    }
   ],
   "source": [
    "1425.0 * 8"
   ]
  },
  {
   "cell_type": "markdown",
   "metadata": {},
   "source": [
    "Стратифайдом делю на трейн, тест, сплит"
   ]
  },
  {
   "cell_type": "code",
   "execution_count": 133,
   "metadata": {},
   "outputs": [],
   "source": [
    "# https://stackoverflow.com/questions/40829137/stratified-train-validation-test-split-in-scikit-learn\n",
    "\n",
    "from sklearn.model_selection import StratifiedShuffleSplit\n",
    "SEED = 42001\n",
    "\n",
    "split = StratifiedShuffleSplit(n_splits=1, test_size=3/11, random_state=SEED)\n",
    "for train_index, test_valid_index in split.split(\\\n",
    "                                                 ready_data.drop('tag', axis=1), \\\n",
    "                                                 ready_data['tag']\\\n",
    "                                                ):\n",
    "    train_set = ready_data.iloc[train_index]\n",
    "    test_valid_set = ready_data.iloc[test_valid_index]\n",
    "\n",
    "split2 = StratifiedShuffleSplit(n_splits=1, test_size=0.5, random_state=SEED)\n",
    "for test_index, valid_index in split2.split(test_valid_set, test_valid_set['tag']):\n",
    "    test_set = test_valid_set.iloc[test_index]\n",
    "    valid_set = test_valid_set.iloc[valid_index]"
   ]
  },
  {
   "cell_type": "code",
   "execution_count": 134,
   "metadata": {},
   "outputs": [],
   "source": [
    "train_set = train_set.reset_index()\n",
    "test_set = test_set.reset_index()\n",
    "valid_set = valid_set.reset_index()"
   ]
  },
  {
   "cell_type": "markdown",
   "metadata": {},
   "source": [
    "______"
   ]
  },
  {
   "cell_type": "markdown",
   "metadata": {},
   "source": [
    "Далее все '\\n' заменяются на '\\n\\t', а также вначале каждого сниппета приписывается\n",
    "\n",
    "'def tag():\\n\\t'\n",
    "\n",
    "Каждый сниппет записывается в **отдельный файл** с названием номер_итерации.py в каталог трей, тест или валидейшн."
   ]
  },
  {
   "cell_type": "code",
   "execution_count": 818,
   "metadata": {},
   "outputs": [],
   "source": [
    "def add_tabs(exmpl):\n",
    "    new_exmpl = str()\n",
    "    for i in range(len(exmpl)):\n",
    "        if (exmpl[i]=='\\n'):\n",
    "            new_exmpl += '\\n\\t'\n",
    "        else:\n",
    "            new_exmpl += exmpl[i]\n",
    "    return new_exmpl"
   ]
  },
  {
   "cell_type": "markdown",
   "metadata": {},
   "source": [
    "train:"
   ]
  },
  {
   "cell_type": "code",
   "execution_count": 822,
   "metadata": {},
   "outputs": [],
   "source": [
    "for i in range(train_set.shape[0]):\n",
    "        exmpl = train_set.loc[i]['code_block'][:-1]\n",
    "        exmpl = add_tabs(exmpl)\n",
    "        print('def ' + str(train_set.loc[i]['tag'])+'():\\n\\t' + exmpl\n",
    "              ,  file=open('/home/kirill/code2vec/cd2vec/python/my_train/func'+str(i)+'.py', 'w'))"
   ]
  },
  {
   "cell_type": "markdown",
   "metadata": {},
   "source": [
    "test:"
   ]
  },
  {
   "cell_type": "code",
   "execution_count": 823,
   "metadata": {},
   "outputs": [],
   "source": [
    "for i in range(test_set.shape[0]):\n",
    "        exmpl = test_set.loc[i]['code_block'][:-1]\n",
    "        exmpl = add_tabs(exmpl)\n",
    "        print('def ' + str(test_set.loc[i]['tag'])+'():\\n\\t' + exmpl\n",
    "              ,  file=open('/home/kirill/code2vec/cd2vec/python/my_test/func'+str(i)+'.py', 'w'))"
   ]
  },
  {
   "cell_type": "markdown",
   "metadata": {},
   "source": [
    "valid:"
   ]
  },
  {
   "cell_type": "code",
   "execution_count": 824,
   "metadata": {},
   "outputs": [],
   "source": [
    "for i in range(valid_set.shape[0]):\n",
    "        exmpl = valid_set.loc[i]['code_block'][:-1]\n",
    "        exmpl = add_tabs(exmpl)\n",
    "        print('def ' + str(valid_set.loc[i]['tag'])+'():\\n\\t' + exmpl\n",
    "              ,  file=open('/home/kirill/code2vec/cd2vec/python/my_val/func'+str(i)+'.py', 'w'))"
   ]
  },
  {
   "cell_type": "markdown",
   "metadata": {},
   "source": [
    "_______"
   ]
  },
  {
   "cell_type": "markdown",
   "metadata": {},
   "source": [
    "Предобработка для просто 30 строк кода посложнее, пока ее нет."
   ]
  }
 ],
 "metadata": {
  "kernelspec": {
   "display_name": "Python 3",
   "language": "python",
   "name": "python3"
  },
  "language_info": {
   "codemirror_mode": {
    "name": "ipython",
    "version": 3
   },
   "file_extension": ".py",
   "mimetype": "text/x-python",
   "name": "python",
   "nbconvert_exporter": "python",
   "pygments_lexer": "ipython3",
   "version": "3.6.9"
  }
 },
 "nbformat": 4,
 "nbformat_minor": 4
}
