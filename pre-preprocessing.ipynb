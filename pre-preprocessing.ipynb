{
 "cells": [
  {
   "cell_type": "code",
   "execution_count": 763,
   "metadata": {},
   "outputs": [],
   "source": [
    "import pandas as pd\n",
    "import numpy as np"
   ]
  },
  {
   "cell_type": "code",
   "execution_count": 764,
   "metadata": {},
   "outputs": [
    {
     "data": {
      "text/html": [
       "<div>\n",
       "<style scoped>\n",
       "    .dataframe tbody tr th:only-of-type {\n",
       "        vertical-align: middle;\n",
       "    }\n",
       "\n",
       "    .dataframe tbody tr th {\n",
       "        vertical-align: top;\n",
       "    }\n",
       "\n",
       "    .dataframe thead th {\n",
       "        text-align: right;\n",
       "    }\n",
       "</style>\n",
       "<table border=\"1\" class=\"dataframe\">\n",
       "  <thead>\n",
       "    <tr style=\"text-align: right;\">\n",
       "      <th></th>\n",
       "      <th>Unnamed: 0</th>\n",
       "      <th>code_block</th>\n",
       "      <th>tag</th>\n",
       "    </tr>\n",
       "  </thead>\n",
       "  <tbody>\n",
       "    <tr>\n",
       "      <th>0</th>\n",
       "      <td>0</td>\n",
       "      <td>\\nimport pandas as pd\\nimport matplotlib.pyplo...</td>\n",
       "      <td>['invite people for the kaggle party']</td>\n",
       "    </tr>\n",
       "    <tr>\n",
       "      <th>1</th>\n",
       "      <td>1</td>\n",
       "      <td>\\ndf_train = pd.read_csv('../input/train.csv'),</td>\n",
       "      <td>['bring in the six packs']</td>\n",
       "    </tr>\n",
       "    <tr>\n",
       "      <th>2</th>\n",
       "      <td>2</td>\n",
       "      <td>\\ndf_train.columns,</td>\n",
       "      <td>['check the decoration']</td>\n",
       "    </tr>\n",
       "    <tr>\n",
       "      <th>3</th>\n",
       "      <td>3</td>\n",
       "      <td>\\ndf_train['SalePrice'].describe(),</td>\n",
       "      <td>['descriptive statistics summary']</td>\n",
       "    </tr>\n",
       "    <tr>\n",
       "      <th>4</th>\n",
       "      <td>4</td>\n",
       "      <td>sns.distplot(df_train['SalePrice']);,</td>\n",
       "      <td>['histogram']</td>\n",
       "    </tr>\n",
       "  </tbody>\n",
       "</table>\n",
       "</div>"
      ],
      "text/plain": [
       "   Unnamed: 0                                         code_block  \\\n",
       "0           0  \\nimport pandas as pd\\nimport matplotlib.pyplo...   \n",
       "1           1    \\ndf_train = pd.read_csv('../input/train.csv'),   \n",
       "2           2                                \\ndf_train.columns,   \n",
       "3           3                \\ndf_train['SalePrice'].describe(),   \n",
       "4           4              sns.distplot(df_train['SalePrice']);,   \n",
       "\n",
       "                                      tag  \n",
       "0  ['invite people for the kaggle party']  \n",
       "1              ['bring in the six packs']  \n",
       "2                ['check the decoration']  \n",
       "3      ['descriptive statistics summary']  \n",
       "4                           ['histogram']  "
      ]
     },
     "execution_count": 764,
     "metadata": {},
     "output_type": "execute_result"
    }
   ],
   "source": [
    "data = pd.read_csv('code_blocks.csv', sep='\\t')\n",
    "data.head()"
   ]
  },
  {
   "cell_type": "code",
   "execution_count": 765,
   "metadata": {},
   "outputs": [
    {
     "data": {
      "text/plain": [
       "86113"
      ]
     },
     "execution_count": 765,
     "metadata": {},
     "output_type": "execute_result"
    }
   ],
   "source": [
    "data['tag'].nunique()"
   ]
  },
  {
   "cell_type": "code",
   "execution_count": 766,
   "metadata": {
    "scrolled": true
   },
   "outputs": [
    {
     "data": {
      "text/plain": [
       "(179773,)"
      ]
     },
     "execution_count": 766,
     "metadata": {},
     "output_type": "execute_result"
    }
   ],
   "source": [
    "data['tag'].shape"
   ]
  },
  {
   "cell_type": "code",
   "execution_count": 767,
   "metadata": {},
   "outputs": [
    {
     "data": {
      "text/plain": [
       "'a id2a br\\n matplotlib\\nmatplot is a python library that help us to plot data the easiest and basic plots are line scatter and histogram plots\\n line plot is better when x axis is time\\n scatter is better when there is correlation between two variables\\n histogram is better when we need to see distribution of numerical data\\n customization colorslabelsthickness of line title opacity grid figsize ticks of axis and linestyle  '"
      ]
     },
     "execution_count": 767,
     "metadata": {},
     "output_type": "execute_result"
    }
   ],
   "source": [
    "my_string = data.loc[111, 'tag']\n",
    "my_string"
   ]
  },
  {
   "cell_type": "code",
   "execution_count": 768,
   "metadata": {},
   "outputs": [
    {
     "data": {
      "text/plain": [
       "['a id2a br\\n matplotlib\\nmatplot is a python library that help us to plot data the easiest and basic plots are line scatter and histogram plots\\n line plot is better when x axis is time\\n scatter is better when there is correlation between two variables\\n histogram is better when we need to see distribution of numerical data\\n customization colorslabelsthickness of line title opacity grid figsize ticks of axis and linestyle  ']"
      ]
     },
     "execution_count": 768,
     "metadata": {},
     "output_type": "execute_result"
    }
   ],
   "source": [
    "lst = list(map(str, my_string.split(\"', '\")))\n",
    "if lst[-1] == \"']\":\n",
    "    lst.pop()\n",
    "lst"
   ]
  },
  {
   "cell_type": "code",
   "execution_count": null,
   "metadata": {},
   "outputs": [],
   "source": []
  },
  {
   "cell_type": "code",
   "execution_count": null,
   "metadata": {},
   "outputs": [],
   "source": []
  },
  {
   "cell_type": "code",
   "execution_count": 769,
   "metadata": {},
   "outputs": [],
   "source": [
    "from tqdm import tqdm"
   ]
  },
  {
   "cell_type": "code",
   "execution_count": 770,
   "metadata": {},
   "outputs": [],
   "source": [
    "all_to_del = set(['', \"['']\", ' ', '  ', \"[' ']\", '        ', '     ', '    ', '   ', \"['', ' ']\", '       ', '      ', \\\n",
    "             '             ', '         ', '          ', \"']\",\\\n",
    "                 \"['   \", \"['\", \"[' \", \"['  \", \"['    \", \"['    \"])"
   ]
  },
  {
   "cell_type": "code",
   "execution_count": 771,
   "metadata": {},
   "outputs": [],
   "source": [
    "rows_to_del = []"
   ]
  },
  {
   "cell_type": "code",
   "execution_count": 772,
   "metadata": {},
   "outputs": [
    {
     "name": "stderr",
     "output_type": "stream",
     "text": [
      "100%|██████████| 179773/179773 [27:29<00:00, 108.97it/s]\n"
     ]
    }
   ],
   "source": [
    "for i in tqdm(range(data.shape[0])):\n",
    "    my_string = data.loc[i, 'tag']\n",
    "    \n",
    "    if (my_string is not np.nan) and my_string is not None:\n",
    "        min_len = len(data.loc[i, 'tag']) + 10\n",
    "        min_el = None\n",
    "        s = set(list(map(str, my_string.split(\"', '\"))))\n",
    "\n",
    "        for el in s:\n",
    "            if el not in all_to_del and len(el) < min_len:\n",
    "                min_len = len(el)\n",
    "                min_el = el\n",
    "\n",
    "        if min_el is not None:\n",
    "            data.loc[i, 'tag'] = min_el\n",
    "        else:\n",
    "            rows_to_del.append(i)\n",
    "    else:\n",
    "        rows_to_del.append(i)"
   ]
  },
  {
   "cell_type": "code",
   "execution_count": null,
   "metadata": {},
   "outputs": [],
   "source": []
  },
  {
   "cell_type": "code",
   "execution_count": 773,
   "metadata": {
    "scrolled": true
   },
   "outputs": [
    {
     "data": {
      "text/plain": [
       "(179773, 3)"
      ]
     },
     "execution_count": 773,
     "metadata": {},
     "output_type": "execute_result"
    }
   ],
   "source": [
    "data.shape"
   ]
  },
  {
   "cell_type": "code",
   "execution_count": 774,
   "metadata": {
    "scrolled": true
   },
   "outputs": [],
   "source": [
    "data = data.drop(rows_to_del)"
   ]
  },
  {
   "cell_type": "code",
   "execution_count": 775,
   "metadata": {},
   "outputs": [
    {
     "data": {
      "text/plain": [
       "(177039, 3)"
      ]
     },
     "execution_count": 775,
     "metadata": {},
     "output_type": "execute_result"
    }
   ],
   "source": [
    "data.shape"
   ]
  },
  {
   "cell_type": "code",
   "execution_count": 776,
   "metadata": {},
   "outputs": [],
   "source": [
    "data = data.reset_index()"
   ]
  },
  {
   "cell_type": "code",
   "execution_count": null,
   "metadata": {},
   "outputs": [],
   "source": []
  },
  {
   "cell_type": "code",
   "execution_count": 777,
   "metadata": {},
   "outputs": [],
   "source": [
    "import re\n",
    "def clear_tag(tag):\n",
    "    tag = tag.replace(' ', '_')\n",
    "    return re.sub('[^A-Za-z0-9_]+', '',tag) #remove spaces and "
   ]
  },
  {
   "cell_type": "code",
   "execution_count": 778,
   "metadata": {},
   "outputs": [
    {
     "data": {
      "text/html": [
       "<div>\n",
       "<style scoped>\n",
       "    .dataframe tbody tr th:only-of-type {\n",
       "        vertical-align: middle;\n",
       "    }\n",
       "\n",
       "    .dataframe tbody tr th {\n",
       "        vertical-align: top;\n",
       "    }\n",
       "\n",
       "    .dataframe thead th {\n",
       "        text-align: right;\n",
       "    }\n",
       "</style>\n",
       "<table border=\"1\" class=\"dataframe\">\n",
       "  <thead>\n",
       "    <tr style=\"text-align: right;\">\n",
       "      <th></th>\n",
       "      <th>index</th>\n",
       "      <th>Unnamed: 0</th>\n",
       "      <th>code_block</th>\n",
       "      <th>tag</th>\n",
       "    </tr>\n",
       "  </thead>\n",
       "  <tbody>\n",
       "    <tr>\n",
       "      <th>0</th>\n",
       "      <td>0</td>\n",
       "      <td>0</td>\n",
       "      <td>\\nimport pandas as pd\\nimport matplotlib.pyplo...</td>\n",
       "      <td>invite_people_for_the_kaggle_party</td>\n",
       "    </tr>\n",
       "    <tr>\n",
       "      <th>1</th>\n",
       "      <td>1</td>\n",
       "      <td>1</td>\n",
       "      <td>\\ndf_train = pd.read_csv('../input/train.csv'),</td>\n",
       "      <td>bring_in_the_six_packs</td>\n",
       "    </tr>\n",
       "    <tr>\n",
       "      <th>2</th>\n",
       "      <td>2</td>\n",
       "      <td>2</td>\n",
       "      <td>\\ndf_train.columns,</td>\n",
       "      <td>check_the_decoration</td>\n",
       "    </tr>\n",
       "    <tr>\n",
       "      <th>3</th>\n",
       "      <td>3</td>\n",
       "      <td>3</td>\n",
       "      <td>\\ndf_train['SalePrice'].describe(),</td>\n",
       "      <td>descriptive_statistics_summary</td>\n",
       "    </tr>\n",
       "    <tr>\n",
       "      <th>4</th>\n",
       "      <td>4</td>\n",
       "      <td>4</td>\n",
       "      <td>sns.distplot(df_train['SalePrice']);,</td>\n",
       "      <td>histogram</td>\n",
       "    </tr>\n",
       "    <tr>\n",
       "      <th>...</th>\n",
       "      <td>...</td>\n",
       "      <td>...</td>\n",
       "      <td>...</td>\n",
       "      <td>...</td>\n",
       "    </tr>\n",
       "    <tr>\n",
       "      <th>177034</th>\n",
       "      <td>179768</td>\n",
       "      <td>1</td>\n",
       "      <td>def count_keywords(text, keywords):\\n    '''\\n...</td>\n",
       "      <td>_rank_studies_by_relevancy_to_the_subtask</td>\n",
       "    </tr>\n",
       "    <tr>\n",
       "      <th>177035</th>\n",
       "      <td>179769</td>\n",
       "      <td>2</td>\n",
       "      <td>def get_cluster(text, regex, keywords=None):\\n...</td>\n",
       "      <td>_extract_age_phrases</td>\n",
       "    </tr>\n",
       "    <tr>\n",
       "      <th>177036</th>\n",
       "      <td>179770</td>\n",
       "      <td>3</td>\n",
       "      <td>\\nnlp = pipeline('feature-extraction', \\n     ...</td>\n",
       "      <td>_extract_age_phrases</td>\n",
       "    </tr>\n",
       "    <tr>\n",
       "      <th>177037</th>\n",
       "      <td>179771</td>\n",
       "      <td>4</td>\n",
       "      <td>vectors_age = {\\n    k: [np.array(nlp(phrase))...</td>\n",
       "      <td>_format_the_output</td>\n",
       "    </tr>\n",
       "    <tr>\n",
       "      <th>177038</th>\n",
       "      <td>179772</td>\n",
       "      <td>5</td>\n",
       "      <td>plot_df = pd.DataFrame(np.array(vectors_num))\\...</td>\n",
       "      <td>_optional_code_to_produce_the_tsne_plot</td>\n",
       "    </tr>\n",
       "  </tbody>\n",
       "</table>\n",
       "<p>177039 rows × 4 columns</p>\n",
       "</div>"
      ],
      "text/plain": [
       "         index  Unnamed: 0                                         code_block  \\\n",
       "0            0           0  \\nimport pandas as pd\\nimport matplotlib.pyplo...   \n",
       "1            1           1    \\ndf_train = pd.read_csv('../input/train.csv'),   \n",
       "2            2           2                                \\ndf_train.columns,   \n",
       "3            3           3                \\ndf_train['SalePrice'].describe(),   \n",
       "4            4           4              sns.distplot(df_train['SalePrice']);,   \n",
       "...        ...         ...                                                ...   \n",
       "177034  179768           1  def count_keywords(text, keywords):\\n    '''\\n...   \n",
       "177035  179769           2  def get_cluster(text, regex, keywords=None):\\n...   \n",
       "177036  179770           3  \\nnlp = pipeline('feature-extraction', \\n     ...   \n",
       "177037  179771           4  vectors_age = {\\n    k: [np.array(nlp(phrase))...   \n",
       "177038  179772           5  plot_df = pd.DataFrame(np.array(vectors_num))\\...   \n",
       "\n",
       "                                              tag  \n",
       "0              invite_people_for_the_kaggle_party  \n",
       "1                          bring_in_the_six_packs  \n",
       "2                            check_the_decoration  \n",
       "3                  descriptive_statistics_summary  \n",
       "4                                       histogram  \n",
       "...                                           ...  \n",
       "177034  _rank_studies_by_relevancy_to_the_subtask  \n",
       "177035                       _extract_age_phrases  \n",
       "177036                       _extract_age_phrases  \n",
       "177037                         _format_the_output  \n",
       "177038    _optional_code_to_produce_the_tsne_plot  \n",
       "\n",
       "[177039 rows x 4 columns]"
      ]
     },
     "execution_count": 778,
     "metadata": {},
     "output_type": "execute_result"
    }
   ],
   "source": [
    "data['tag'] = list(map(clear_tag, data['tag']))\n",
    "data"
   ]
  },
  {
   "cell_type": "code",
   "execution_count": 781,
   "metadata": {},
   "outputs": [],
   "source": [
    "def clear_first(tag):\n",
    "    if tag is not np.nan and tag is not None \\\n",
    "            and len(tag) > 0 and tag[0] == '_':\n",
    "        return tag[1:]\n",
    "    else:\n",
    "        return tag"
   ]
  },
  {
   "cell_type": "code",
   "execution_count": 782,
   "metadata": {},
   "outputs": [
    {
     "data": {
      "text/html": [
       "<div>\n",
       "<style scoped>\n",
       "    .dataframe tbody tr th:only-of-type {\n",
       "        vertical-align: middle;\n",
       "    }\n",
       "\n",
       "    .dataframe tbody tr th {\n",
       "        vertical-align: top;\n",
       "    }\n",
       "\n",
       "    .dataframe thead th {\n",
       "        text-align: right;\n",
       "    }\n",
       "</style>\n",
       "<table border=\"1\" class=\"dataframe\">\n",
       "  <thead>\n",
       "    <tr style=\"text-align: right;\">\n",
       "      <th></th>\n",
       "      <th>index</th>\n",
       "      <th>Unnamed: 0</th>\n",
       "      <th>code_block</th>\n",
       "      <th>tag</th>\n",
       "    </tr>\n",
       "  </thead>\n",
       "  <tbody>\n",
       "    <tr>\n",
       "      <th>0</th>\n",
       "      <td>0</td>\n",
       "      <td>0</td>\n",
       "      <td>\\nimport pandas as pd\\nimport matplotlib.pyplo...</td>\n",
       "      <td>invite_people_for_the_kaggle_party</td>\n",
       "    </tr>\n",
       "    <tr>\n",
       "      <th>1</th>\n",
       "      <td>1</td>\n",
       "      <td>1</td>\n",
       "      <td>\\ndf_train = pd.read_csv('../input/train.csv'),</td>\n",
       "      <td>bring_in_the_six_packs</td>\n",
       "    </tr>\n",
       "    <tr>\n",
       "      <th>2</th>\n",
       "      <td>2</td>\n",
       "      <td>2</td>\n",
       "      <td>\\ndf_train.columns,</td>\n",
       "      <td>check_the_decoration</td>\n",
       "    </tr>\n",
       "    <tr>\n",
       "      <th>3</th>\n",
       "      <td>3</td>\n",
       "      <td>3</td>\n",
       "      <td>\\ndf_train['SalePrice'].describe(),</td>\n",
       "      <td>descriptive_statistics_summary</td>\n",
       "    </tr>\n",
       "    <tr>\n",
       "      <th>4</th>\n",
       "      <td>4</td>\n",
       "      <td>4</td>\n",
       "      <td>sns.distplot(df_train['SalePrice']);,</td>\n",
       "      <td>histogram</td>\n",
       "    </tr>\n",
       "    <tr>\n",
       "      <th>...</th>\n",
       "      <td>...</td>\n",
       "      <td>...</td>\n",
       "      <td>...</td>\n",
       "      <td>...</td>\n",
       "    </tr>\n",
       "    <tr>\n",
       "      <th>177034</th>\n",
       "      <td>179768</td>\n",
       "      <td>1</td>\n",
       "      <td>def count_keywords(text, keywords):\\n    '''\\n...</td>\n",
       "      <td>rank_studies_by_relevancy_to_the_subtask</td>\n",
       "    </tr>\n",
       "    <tr>\n",
       "      <th>177035</th>\n",
       "      <td>179769</td>\n",
       "      <td>2</td>\n",
       "      <td>def get_cluster(text, regex, keywords=None):\\n...</td>\n",
       "      <td>extract_age_phrases</td>\n",
       "    </tr>\n",
       "    <tr>\n",
       "      <th>177036</th>\n",
       "      <td>179770</td>\n",
       "      <td>3</td>\n",
       "      <td>\\nnlp = pipeline('feature-extraction', \\n     ...</td>\n",
       "      <td>extract_age_phrases</td>\n",
       "    </tr>\n",
       "    <tr>\n",
       "      <th>177037</th>\n",
       "      <td>179771</td>\n",
       "      <td>4</td>\n",
       "      <td>vectors_age = {\\n    k: [np.array(nlp(phrase))...</td>\n",
       "      <td>format_the_output</td>\n",
       "    </tr>\n",
       "    <tr>\n",
       "      <th>177038</th>\n",
       "      <td>179772</td>\n",
       "      <td>5</td>\n",
       "      <td>plot_df = pd.DataFrame(np.array(vectors_num))\\...</td>\n",
       "      <td>optional_code_to_produce_the_tsne_plot</td>\n",
       "    </tr>\n",
       "  </tbody>\n",
       "</table>\n",
       "<p>177039 rows × 4 columns</p>\n",
       "</div>"
      ],
      "text/plain": [
       "         index  Unnamed: 0                                         code_block  \\\n",
       "0            0           0  \\nimport pandas as pd\\nimport matplotlib.pyplo...   \n",
       "1            1           1    \\ndf_train = pd.read_csv('../input/train.csv'),   \n",
       "2            2           2                                \\ndf_train.columns,   \n",
       "3            3           3                \\ndf_train['SalePrice'].describe(),   \n",
       "4            4           4              sns.distplot(df_train['SalePrice']);,   \n",
       "...        ...         ...                                                ...   \n",
       "177034  179768           1  def count_keywords(text, keywords):\\n    '''\\n...   \n",
       "177035  179769           2  def get_cluster(text, regex, keywords=None):\\n...   \n",
       "177036  179770           3  \\nnlp = pipeline('feature-extraction', \\n     ...   \n",
       "177037  179771           4  vectors_age = {\\n    k: [np.array(nlp(phrase))...   \n",
       "177038  179772           5  plot_df = pd.DataFrame(np.array(vectors_num))\\...   \n",
       "\n",
       "                                             tag  \n",
       "0             invite_people_for_the_kaggle_party  \n",
       "1                         bring_in_the_six_packs  \n",
       "2                           check_the_decoration  \n",
       "3                 descriptive_statistics_summary  \n",
       "4                                      histogram  \n",
       "...                                          ...  \n",
       "177034  rank_studies_by_relevancy_to_the_subtask  \n",
       "177035                       extract_age_phrases  \n",
       "177036                       extract_age_phrases  \n",
       "177037                         format_the_output  \n",
       "177038    optional_code_to_produce_the_tsne_plot  \n",
       "\n",
       "[177039 rows x 4 columns]"
      ]
     },
     "execution_count": 782,
     "metadata": {},
     "output_type": "execute_result"
    }
   ],
   "source": [
    "data['tag'] = list(map(clear_first, data['tag']))\n",
    "data"
   ]
  },
  {
   "cell_type": "code",
   "execution_count": 783,
   "metadata": {},
   "outputs": [
    {
     "data": {
      "text/plain": [
       "(177039, 4)"
      ]
     },
     "execution_count": 783,
     "metadata": {},
     "output_type": "execute_result"
    }
   ],
   "source": [
    "data.shape"
   ]
  },
  {
   "cell_type": "code",
   "execution_count": 784,
   "metadata": {},
   "outputs": [],
   "source": [
    "data = data[data['tag'] != '']\n",
    "data = data[data['tag'] != '_']\n",
    "data = data[data['tag'] != '__']\n",
    "data = data[data['tag'] != '___']\n",
    "data = data[data['tag'] != '____']\n",
    "data = data[data['tag'] != '_____']"
   ]
  },
  {
   "cell_type": "code",
   "execution_count": 785,
   "metadata": {},
   "outputs": [
    {
     "data": {
      "text/plain": [
       "(176277, 4)"
      ]
     },
     "execution_count": 785,
     "metadata": {},
     "output_type": "execute_result"
    }
   ],
   "source": [
    "data.shape"
   ]
  },
  {
   "cell_type": "code",
   "execution_count": null,
   "metadata": {},
   "outputs": [],
   "source": []
  },
  {
   "cell_type": "code",
   "execution_count": null,
   "metadata": {},
   "outputs": [],
   "source": []
  },
  {
   "cell_type": "code",
   "execution_count": 786,
   "metadata": {},
   "outputs": [],
   "source": [
    "from collections import Counter\n",
    "\n",
    "mc = Counter(data['tag']).most_common(1000)"
   ]
  },
  {
   "cell_type": "code",
   "execution_count": 787,
   "metadata": {},
   "outputs": [],
   "source": [
    "strange_to_del = []"
   ]
  },
  {
   "cell_type": "code",
   "execution_count": 788,
   "metadata": {},
   "outputs": [
    {
     "name": "stderr",
     "output_type": "stream",
     "text": [
      "100%|██████████| 1000/1000 [00:10<00:00, 93.88it/s]\n"
     ]
    }
   ],
   "source": [
    "for el in tqdm(mc):\n",
    "    if data[data['tag']==el[0]]['code_block'].nunique() < 10:\n",
    "        strange_to_del.append(el[0])"
   ]
  },
  {
   "cell_type": "code",
   "execution_count": 789,
   "metadata": {},
   "outputs": [
    {
     "name": "stderr",
     "output_type": "stream",
     "text": [
      "100%|██████████| 141/141 [00:04<00:00, 32.74it/s]\n"
     ]
    }
   ],
   "source": [
    "for el in tqdm(strange_to_del):\n",
    "    data = data[data['tag'] != el]"
   ]
  },
  {
   "cell_type": "code",
   "execution_count": 790,
   "metadata": {},
   "outputs": [
    {
     "data": {
      "text/plain": [
       "(167326, 4)"
      ]
     },
     "execution_count": 790,
     "metadata": {},
     "output_type": "execute_result"
    }
   ],
   "source": [
    "data.shape"
   ]
  },
  {
   "cell_type": "code",
   "execution_count": 792,
   "metadata": {},
   "outputs": [
    {
     "data": {
      "text/plain": [
       "[('linear_algebra', 2589),\n",
       " ('plotting', 1983),\n",
       " ('correlation_matrix', 1958),\n",
       " ('specify_none_if_want_to_read_whole_file', 1644),\n",
       " ('create_x', 545),\n",
       " ('check_your_answer', 530),\n",
       " ('model', 463),\n",
       " ('fit_rfmodelonfulldata_on_all_data_from_the_training_data', 429),\n",
       " ('your_code_here', 397),\n",
       " ('just_uncomment_them', 393),\n",
       " ('feature_engineering', 383),\n",
       " ('preprocessing', 363),\n",
       " ('submission', 352),\n",
       " ('set_up_code_checking', 347),\n",
       " ('read_the_data', 339),\n",
       " ('load_data', 280),\n",
       " ('random_forest', 257),\n",
       " ('training', 256),\n",
       " ('prediction', 248),\n",
       " ('check_your_answers', 211),\n",
       " ('data', 194),\n",
       " ('plot', 189),\n",
       " ('eda', 186),\n",
       " ('visualization', 179),\n",
       " ('predict', 175),\n",
       " ('imports', 170),\n",
       " ('data_visualization', 163),\n",
       " ('train', 162),\n",
       " ('data_preprocessing', 160),\n",
       " ('xgboost', 157),\n",
       " ('use_the_next_code_cell_to_print_the_first_five_rows_of_the_data', 157),\n",
       " ('blend', 155),\n",
       " ('model_building', 155),\n",
       " ('save_test_predictions_to_file', 147),\n",
       " ('data_cleaning', 144),\n",
       " ('test', 140),\n",
       " ('the_expected_result_may_be_negative_because_the_loss_function_is_msebecauserestore_by_taking_an_absolute_value',\n",
       "  139),\n",
       " ('modelling', 133),\n",
       " ('exploratory_data_analysis', 132),\n",
       " ('input', 131),\n",
       " ('check_your_answer_run_this_code_cell_to_receive_credit', 131),\n",
       " ('import_data', 130),\n",
       " ('define_and_fit_model', 129),\n",
       " ('logistic_regression', 127),\n",
       " ('generate_test_predictions', 127),\n",
       " ('lines_below_will_give_you_a_hint_or_solution_code', 127),\n",
       " ('main_method', 124),\n",
       " ('have_missing_values', 123),\n",
       " ('process_queries', 122),\n",
       " ('lets_split_our_data_into_trainval', 116)]"
      ]
     },
     "execution_count": 792,
     "metadata": {},
     "output_type": "execute_result"
    }
   ],
   "source": [
    "Counter(data['tag']).most_common(50)"
   ]
  },
  {
   "cell_type": "code",
   "execution_count": null,
   "metadata": {},
   "outputs": [],
   "source": []
  },
  {
   "cell_type": "code",
   "execution_count": null,
   "metadata": {},
   "outputs": [],
   "source": []
  },
  {
   "cell_type": "code",
   "execution_count": null,
   "metadata": {},
   "outputs": [],
   "source": []
  },
  {
   "cell_type": "code",
   "execution_count": 793,
   "metadata": {},
   "outputs": [],
   "source": [
    "wtf = data[data['tag'].str.len() < 75]"
   ]
  },
  {
   "cell_type": "code",
   "execution_count": 794,
   "metadata": {},
   "outputs": [
    {
     "name": "stdout",
     "output_type": "stream",
     "text": [
      "(128448, 4)\n",
      "47511\n"
     ]
    }
   ],
   "source": [
    "print(wtf.shape)\n",
    "print(wtf['tag'].nunique())"
   ]
  },
  {
   "cell_type": "code",
   "execution_count": 795,
   "metadata": {},
   "outputs": [
    {
     "data": {
      "text/plain": [
       "[('linear_algebra', 2589),\n",
       " ('plotting', 1983),\n",
       " ('correlation_matrix', 1958),\n",
       " ('specify_none_if_want_to_read_whole_file', 1644),\n",
       " ('create_x', 545),\n",
       " ('check_your_answer', 530),\n",
       " ('model', 463),\n",
       " ('fit_rfmodelonfulldata_on_all_data_from_the_training_data', 429),\n",
       " ('your_code_here', 397),\n",
       " ('just_uncomment_them', 393),\n",
       " ('feature_engineering', 383),\n",
       " ('preprocessing', 363),\n",
       " ('submission', 352),\n",
       " ('set_up_code_checking', 347),\n",
       " ('read_the_data', 339),\n",
       " ('load_data', 280),\n",
       " ('random_forest', 257),\n",
       " ('training', 256),\n",
       " ('prediction', 248),\n",
       " ('check_your_answers', 211),\n",
       " ('data', 194),\n",
       " ('plot', 189),\n",
       " ('eda', 186),\n",
       " ('visualization', 179),\n",
       " ('predict', 175),\n",
       " ('imports', 170),\n",
       " ('data_visualization', 163),\n",
       " ('train', 162),\n",
       " ('data_preprocessing', 160),\n",
       " ('xgboost', 157),\n",
       " ('use_the_next_code_cell_to_print_the_first_five_rows_of_the_data', 157),\n",
       " ('blend', 155),\n",
       " ('model_building', 155),\n",
       " ('save_test_predictions_to_file', 147),\n",
       " ('data_cleaning', 144),\n",
       " ('test', 140),\n",
       " ('modelling', 133),\n",
       " ('exploratory_data_analysis', 132),\n",
       " ('input', 131),\n",
       " ('check_your_answer_run_this_code_cell_to_receive_credit', 131),\n",
       " ('import_data', 130),\n",
       " ('define_and_fit_model', 129),\n",
       " ('logistic_regression', 127),\n",
       " ('generate_test_predictions', 127),\n",
       " ('lines_below_will_give_you_a_hint_or_solution_code', 127),\n",
       " ('main_method', 124),\n",
       " ('have_missing_values', 123),\n",
       " ('process_queries', 122),\n",
       " ('lets_split_our_data_into_trainval', 116),\n",
       " ('changing_the_orders', 114)]"
      ]
     },
     "execution_count": 795,
     "metadata": {},
     "output_type": "execute_result"
    }
   ],
   "source": [
    "Counter(wtf['tag']).most_common(50)"
   ]
  },
  {
   "cell_type": "code",
   "execution_count": 796,
   "metadata": {},
   "outputs": [],
   "source": [
    "# all_to_del"
   ]
  },
  {
   "cell_type": "code",
   "execution_count": 797,
   "metadata": {},
   "outputs": [],
   "source": [
    "for to_del in all_to_del:\n",
    "    wtf = wtf[wtf['tag'] != to_del]"
   ]
  },
  {
   "cell_type": "code",
   "execution_count": 844,
   "metadata": {},
   "outputs": [
    {
     "name": "stdout",
     "output_type": "stream",
     "text": [
      "(18366, 4)\n",
      "50\n"
     ]
    }
   ],
   "source": [
    "print(wtf.shape)\n",
    "print(wtf['tag'].nunique())"
   ]
  },
  {
   "cell_type": "code",
   "execution_count": 799,
   "metadata": {},
   "outputs": [
    {
     "data": {
      "text/plain": [
       "47461"
      ]
     },
     "execution_count": 799,
     "metadata": {},
     "output_type": "execute_result"
    }
   ],
   "source": [
    "47511 - 50"
   ]
  },
  {
   "cell_type": "code",
   "execution_count": 845,
   "metadata": {},
   "outputs": [],
   "source": [
    "least_c_tags = set(Counter(wtf['tag']).most_common()[-40:])"
   ]
  },
  {
   "cell_type": "code",
   "execution_count": 846,
   "metadata": {},
   "outputs": [
    {
     "name": "stderr",
     "output_type": "stream",
     "text": [
      "100%|██████████| 40/40 [00:00<00:00, 250.70it/s]\n"
     ]
    }
   ],
   "source": [
    "for el in tqdm(least_c_tags):\n",
    "    wtf = wtf[wtf['tag'] != el[0]]"
   ]
  },
  {
   "cell_type": "code",
   "execution_count": 847,
   "metadata": {},
   "outputs": [
    {
     "name": "stdout",
     "output_type": "stream",
     "text": [
      "(10931, 4)\n",
      "10\n"
     ]
    }
   ],
   "source": [
    "print(wtf.shape)\n",
    "print(wtf['tag'].nunique())"
   ]
  },
  {
   "cell_type": "code",
   "execution_count": 804,
   "metadata": {},
   "outputs": [],
   "source": [
    "ready_data = \\\n",
    "wtf.reset_index().drop(columns=['index', 'Unnamed: 0'], axis=1)"
   ]
  },
  {
   "cell_type": "code",
   "execution_count": 805,
   "metadata": {},
   "outputs": [],
   "source": [
    "ready_data = ready_data.drop(columns=['level_0'], axis=1)"
   ]
  },
  {
   "cell_type": "code",
   "execution_count": 827,
   "metadata": {},
   "outputs": [
    {
     "data": {
      "text/plain": [
       "[('linear_algebra', 2588),\n",
       " ('plotting', 1982),\n",
       " ('correlation_matrix', 1957),\n",
       " ('specify_none_if_want_to_read_whole_file', 1644),\n",
       " ('create_x', 545),\n",
       " ('check_your_answer', 530),\n",
       " ('model', 463),\n",
       " ('fit_rfmodelonfulldata_on_all_data_from_the_training_data', 429),\n",
       " ('your_code_here', 397),\n",
       " ('just_uncomment_them', 393)]"
      ]
     },
     "execution_count": 827,
     "metadata": {},
     "output_type": "execute_result"
    }
   ],
   "source": [
    "Counter(ready_data['tag']).most_common(10)"
   ]
  },
  {
   "cell_type": "code",
   "execution_count": null,
   "metadata": {},
   "outputs": [],
   "source": []
  },
  {
   "cell_type": "markdown",
   "metadata": {},
   "source": [
    "Соотношения train, test, val = 9 / 1 / 1"
   ]
  },
  {
   "cell_type": "code",
   "execution_count": 811,
   "metadata": {},
   "outputs": [
    {
     "data": {
      "text/plain": [
       "1669.0"
      ]
     },
     "execution_count": 811,
     "metadata": {},
     "output_type": "execute_result"
    }
   ],
   "source": [
    "18359 / 11"
   ]
  },
  {
   "cell_type": "code",
   "execution_count": 812,
   "metadata": {},
   "outputs": [
    {
     "data": {
      "text/plain": [
       "7"
      ]
     },
     "execution_count": 812,
     "metadata": {},
     "output_type": "execute_result"
    }
   ],
   "source": [
    "18366 - 18359"
   ]
  },
  {
   "cell_type": "code",
   "execution_count": 813,
   "metadata": {},
   "outputs": [],
   "source": [
    "ready_data = ready_data.drop(ready_data.tail(7).index)"
   ]
  },
  {
   "cell_type": "code",
   "execution_count": 814,
   "metadata": {},
   "outputs": [
    {
     "data": {
      "text/plain": [
       "1669.0"
      ]
     },
     "execution_count": 814,
     "metadata": {},
     "output_type": "execute_result"
    }
   ],
   "source": [
    "ready_data.shape[0] / 11"
   ]
  },
  {
   "cell_type": "markdown",
   "metadata": {},
   "source": [
    "Разделил как 8 / 1.5 / 1.5, то есть размер трейна:"
   ]
  },
  {
   "cell_type": "code",
   "execution_count": 815,
   "metadata": {},
   "outputs": [
    {
     "data": {
      "text/plain": [
       "13352.0"
      ]
     },
     "execution_count": 815,
     "metadata": {},
     "output_type": "execute_result"
    }
   ],
   "source": [
    "1669.0 * 8"
   ]
  },
  {
   "cell_type": "code",
   "execution_count": 816,
   "metadata": {},
   "outputs": [],
   "source": [
    "# https://stackoverflow.com/questions/40829137/stratified-train-validation-test-split-in-scikit-learn\n",
    "\n",
    "from sklearn.model_selection import StratifiedShuffleSplit\n",
    "SEED = 42001\n",
    "\n",
    "split = StratifiedShuffleSplit(n_splits=1, test_size=3/11, random_state=SEED)\n",
    "for train_index, test_valid_index in split.split(\\\n",
    "                                                 ready_data.drop('tag', axis=1), \\\n",
    "                                                 ready_data['tag']\\\n",
    "                                                ):\n",
    "    train_set = ready_data.iloc[train_index]\n",
    "    test_valid_set = ready_data.iloc[test_valid_index]\n",
    "\n",
    "split2 = StratifiedShuffleSplit(n_splits=1, test_size=0.5, random_state=SEED)\n",
    "for test_index, valid_index in split2.split(test_valid_set, test_valid_set['tag']):\n",
    "    test_set = test_valid_set.iloc[test_index]\n",
    "    valid_set = test_valid_set.iloc[valid_index]"
   ]
  },
  {
   "cell_type": "code",
   "execution_count": 817,
   "metadata": {},
   "outputs": [],
   "source": [
    "train_set = train_set.reset_index()\n",
    "test_set = test_set.reset_index()\n",
    "valid_set = valid_set.reset_index()"
   ]
  },
  {
   "cell_type": "code",
   "execution_count": null,
   "metadata": {},
   "outputs": [],
   "source": []
  },
  {
   "cell_type": "code",
   "execution_count": null,
   "metadata": {},
   "outputs": [],
   "source": []
  },
  {
   "cell_type": "code",
   "execution_count": null,
   "metadata": {},
   "outputs": [],
   "source": []
  },
  {
   "cell_type": "code",
   "execution_count": 818,
   "metadata": {},
   "outputs": [],
   "source": [
    "def add_tabs(exmpl):\n",
    "    new_exmpl = str()\n",
    "    for i in range(len(exmpl)):\n",
    "        if (exmpl[i]=='\\n'):\n",
    "            new_exmpl += '\\n\\t'\n",
    "        else:\n",
    "            new_exmpl += exmpl[i]\n",
    "    return new_exmpl"
   ]
  },
  {
   "cell_type": "markdown",
   "metadata": {},
   "source": [
    "train"
   ]
  },
  {
   "cell_type": "code",
   "execution_count": 822,
   "metadata": {},
   "outputs": [],
   "source": [
    "for i in range(train_set.shape[0]):\n",
    "        exmpl = train_set.loc[i]['code_block'][:-1]\n",
    "        exmpl = add_tabs(exmpl)\n",
    "        print('def ' + str(train_set.loc[i]['tag'])+'():\\n\\t' + exmpl\n",
    "              ,  file=open('/home/kirill/code2vec/cd2vec/python/my_train/func'+str(i)+'.py', 'w'))"
   ]
  },
  {
   "cell_type": "markdown",
   "metadata": {},
   "source": [
    "test"
   ]
  },
  {
   "cell_type": "code",
   "execution_count": 823,
   "metadata": {},
   "outputs": [],
   "source": [
    "for i in range(test_set.shape[0]):\n",
    "        exmpl = test_set.loc[i]['code_block'][:-1]\n",
    "        exmpl = add_tabs(exmpl)\n",
    "        print('def ' + str(test_set.loc[i]['tag'])+'():\\n\\t' + exmpl\n",
    "              ,  file=open('/home/kirill/code2vec/cd2vec/python/my_test/func'+str(i)+'.py', 'w'))"
   ]
  },
  {
   "cell_type": "markdown",
   "metadata": {},
   "source": [
    "valid"
   ]
  },
  {
   "cell_type": "code",
   "execution_count": 824,
   "metadata": {},
   "outputs": [],
   "source": [
    "for i in range(valid_set.shape[0]):\n",
    "        exmpl = valid_set.loc[i]['code_block'][:-1]\n",
    "        exmpl = add_tabs(exmpl)\n",
    "        print('def ' + str(valid_set.loc[i]['tag'])+'():\\n\\t' + exmpl\n",
    "              ,  file=open('/home/kirill/code2vec/cd2vec/python/my_val/func'+str(i)+'.py', 'w'))"
   ]
  },
  {
   "cell_type": "code",
   "execution_count": null,
   "metadata": {},
   "outputs": [],
   "source": []
  },
  {
   "cell_type": "code",
   "execution_count": null,
   "metadata": {},
   "outputs": [],
   "source": []
  },
  {
   "cell_type": "code",
   "execution_count": null,
   "metadata": {},
   "outputs": [],
   "source": []
  },
  {
   "cell_type": "code",
   "execution_count": null,
   "metadata": {},
   "outputs": [],
   "source": []
  },
  {
   "cell_type": "markdown",
   "metadata": {},
   "source": [
    "шагов_на_эпоху  --  (all_examples_size / batch_size)\n",
    "эпох  --  epochs_num\n",
    "размер_бача  --  batch_size\n",
    "\n",
    "нужно чтобы не сломалось уметь делать:\n",
    "(шагов_на_эпоху * эпох) шт. батчей, \n",
    "\n",
    "то есть:\n",
    "(all_examples_size / batch_size * epoch_num) шт. батчей\n",
    "\n",
    "то есть:\n",
    "(all_exaples_size * epoch_num) данных"
   ]
  },
  {
   "cell_type": "code",
   "execution_count": 281,
   "metadata": {
    "scrolled": true
   },
   "outputs": [
    {
     "data": {
      "text/plain": [
       "194040.0"
      ]
     },
     "execution_count": 281,
     "metadata": {},
     "output_type": "execute_result"
    }
   ],
   "source": [
    "(12936 / 128) * 15 * 128"
   ]
  },
  {
   "cell_type": "code",
   "execution_count": null,
   "metadata": {},
   "outputs": [],
   "source": []
  },
  {
   "cell_type": "code",
   "execution_count": 277,
   "metadata": {},
   "outputs": [
    {
     "data": {
      "text/plain": [
       "24250.0"
      ]
     },
     "execution_count": 277,
     "metadata": {},
     "output_type": "execute_result"
    }
   ],
   "source": [
    "(2425 / 16) * 10 * 16"
   ]
  },
  {
   "cell_type": "code",
   "execution_count": null,
   "metadata": {},
   "outputs": [],
   "source": []
  },
  {
   "cell_type": "code",
   "execution_count": null,
   "metadata": {},
   "outputs": [],
   "source": []
  },
  {
   "cell_type": "code",
   "execution_count": null,
   "metadata": {},
   "outputs": [],
   "source": []
  },
  {
   "cell_type": "code",
   "execution_count": null,
   "metadata": {},
   "outputs": [],
   "source": []
  },
  {
   "cell_type": "markdown",
   "metadata": {},
   "source": [
    "________________________"
   ]
  },
  {
   "cell_type": "code",
   "execution_count": 39,
   "metadata": {
    "scrolled": true
   },
   "outputs": [
    {
     "data": {
      "text/html": [
       "<div>\n",
       "<style scoped>\n",
       "    .dataframe tbody tr th:only-of-type {\n",
       "        vertical-align: middle;\n",
       "    }\n",
       "\n",
       "    .dataframe tbody tr th {\n",
       "        vertical-align: top;\n",
       "    }\n",
       "\n",
       "    .dataframe thead th {\n",
       "        text-align: right;\n",
       "    }\n",
       "</style>\n",
       "<table border=\"1\" class=\"dataframe\">\n",
       "  <thead>\n",
       "    <tr style=\"text-align: right;\">\n",
       "      <th></th>\n",
       "      <th>code</th>\n",
       "      <th>tag_import_output</th>\n",
       "      <th>tag_visualization</th>\n",
       "    </tr>\n",
       "  </thead>\n",
       "  <tbody>\n",
       "    <tr>\n",
       "      <th>0</th>\n",
       "      <td>import matplotlib.pyplot as plt\\r\\nimport seab...</td>\n",
       "      <td>1</td>\n",
       "      <td>1</td>\n",
       "    </tr>\n",
       "    <tr>\n",
       "      <th>1</th>\n",
       "      <td>cols = ['SalePrice', 'OverallQual', 'GrLivArea...</td>\n",
       "      <td>1</td>\n",
       "      <td>1</td>\n",
       "    </tr>\n",
       "    <tr>\n",
       "      <th>2</th>\n",
       "      <td>res = stats.probplot(df_train['TotalBsmtSF'], ...</td>\n",
       "      <td>1</td>\n",
       "      <td>1</td>\n",
       "    </tr>\n",
       "    <tr>\n",
       "      <th>3</th>\n",
       "      <td>age_null_count = dataset['Age'].isnull().s...</td>\n",
       "      <td>0</td>\n",
       "      <td>0</td>\n",
       "    </tr>\n",
       "    <tr>\n",
       "      <th>4</th>\n",
       "      <td>dataset['Fare'] = dataset['Fare'].astype(i...</td>\n",
       "      <td>0</td>\n",
       "      <td>1</td>\n",
       "    </tr>\n",
       "  </tbody>\n",
       "</table>\n",
       "</div>"
      ],
      "text/plain": [
       "                                                code  tag_import_output  \\\n",
       "0  import matplotlib.pyplot as plt\\r\\nimport seab...                  1   \n",
       "1  cols = ['SalePrice', 'OverallQual', 'GrLivArea...                  1   \n",
       "2  res = stats.probplot(df_train['TotalBsmtSF'], ...                  1   \n",
       "3      age_null_count = dataset['Age'].isnull().s...                  0   \n",
       "4      dataset['Fare'] = dataset['Fare'].astype(i...                  0   \n",
       "\n",
       "   tag_visualization  \n",
       "0                  1  \n",
       "1                  1  \n",
       "2                  1  \n",
       "3                  0  \n",
       "4                  1  "
      ]
     },
     "execution_count": 39,
     "metadata": {},
     "output_type": "execute_result"
    }
   ],
   "source": [
    "data = pd.read_csv('chunks_30_tags.csv')\n",
    "data.head()"
   ]
  },
  {
   "cell_type": "code",
   "execution_count": 43,
   "metadata": {},
   "outputs": [],
   "source": [
    "data.drop('tag_visualization', axis=1, inplace=True)"
   ]
  },
  {
   "cell_type": "code",
   "execution_count": 44,
   "metadata": {},
   "outputs": [
    {
     "data": {
      "text/plain": [
       "(41055, 2)"
      ]
     },
     "execution_count": 44,
     "metadata": {},
     "output_type": "execute_result"
    }
   ],
   "source": [
    "data.shape"
   ]
  },
  {
   "cell_type": "code",
   "execution_count": 45,
   "metadata": {
    "scrolled": true
   },
   "outputs": [
    {
     "data": {
      "text/plain": [
       "1633"
      ]
     },
     "execution_count": 45,
     "metadata": {},
     "output_type": "execute_result"
    }
   ],
   "source": [
    "exmpl = data.loc[4]['code']\n",
    "len(exmpl)"
   ]
  },
  {
   "cell_type": "code",
   "execution_count": 46,
   "metadata": {},
   "outputs": [
    {
     "data": {
      "text/plain": [
       "\"    dataset['Fare'] = dataset['Fare'].astype(int)\\r\\n    \\r\\n    \\r\\n    dataset.loc[ dataset['Age'] = 16, 'Age'] ttttt       = 0\\r\\n    dataset.loc[(dataset['Age']  16)  (dataset['Age'] = 32), 'Age'] = 1\\r\\n    dataset.loc[(dataset['Age']  32)  (dataset['Age'] = 48), 'Age'] = 2\\r\\n    dataset.loc[(dataset['Age']  48)  (dataset['Age'] = 64), 'Age'] = 3\\r\\n    dataset.loc[ dataset['Age']  64, 'Age'] = 4 ;,drop_elements = ['PassengerId', 'Name', 'Ticket', 'Cabin', 'SibSp']\\r\\ntrain = train.drop(drop_elements, axis = 1)\\r\\ntrain = train.drop(['CategoricalAge', 'CategoricalFare'], axis = 1)\\r\\ntest  = test.drop(drop_elements, axis = 1),train.head(3),colormap = plt.cm.RdBu\\r\\nplt.figure(figsize=(14,12))\\r\\nplt.title('Pearson Correlation of Features', y=1.05, size=15)\\r\\nsns.heatmap(train.astype(float).corr(),linewidths=0.1,vmax=1.0, \\r\\n            square=True, cmap=colormap, linecolor='white', annot=True),g = sns.pairplot(train[[u'Survived', u'Pclass', u'Sex', u'Age', u'Parch', u'Fare', u'Embarked',\\r\\n       u'FamilySize', u'Title']], hue='Survived', palette = 'seismic',size=1.2,diag_kind = 'kde',diag_kws=dict(shade=True),plot_kws=dict(s=10) )\\r\\ng.set(xticklabels=[]),ntrain = train.shape[0]\\r\\nntest = test.shape[0]\\r\\nSEED = 0 \\r\\nNFOLDS = 5 \\r\\nkf = KFold(ntrain, n_folds= NFOLDS, random_state=SEED)class SklearnHelper(object):\\r\\n    def __init__(self, clf, seed=0, params=None):\\r\\n        params['random_state'] = seed\\r\\n        self.clf = clf(**params)    def train(self, x_train, y_train):\\r\\n        self.clf.fit(x_train, y_train)    def predict(self, x):\\r\\n        return self.clf.predict(x)\\r\\n    \\r\\n    def fit(self,x,y):\\r\\n        return self.clf.fit(x,y)\""
      ]
     },
     "execution_count": 46,
     "metadata": {},
     "output_type": "execute_result"
    }
   ],
   "source": [
    "exmpl"
   ]
  },
  {
   "cell_type": "code",
   "execution_count": 49,
   "metadata": {},
   "outputs": [
    {
     "data": {
      "text/plain": [
       "\"def 0:    dataset['Fare'] = dataset['Fare'].astype(int)\\r\\n    \\r\\n    \\r\\n    dataset.loc[ dataset['Age'] = 16, 'Age'] ttttt       = 0\\r\\n    dataset.loc[(dataset['Age']  16)  (dataset['Age'] = 32), 'Age'] = 1\\r\\n    dataset.loc[(dataset['Age']  32)  (dataset['Age'] = 48), 'Age'] = 2\\r\\n    dataset.loc[(dataset['Age']  48)  (dataset['Age'] = 64), 'Age'] = 3\\r\\n    dataset.loc[ dataset['Age']  64, 'Age'] = 4 ;,drop_elements = ['PassengerId', 'Name', 'Ticket', 'Cabin', 'SibSp']\\r\\ntrain = train.drop(drop_elements, axis = 1)\\r\\ntrain = train.drop(['CategoricalAge', 'CategoricalFare'], axis = 1)\\r\\ntest  = test.drop(drop_elements, axis = 1),train.head(3),colormap = plt.cm.RdBu\\r\\nplt.figure(figsize=(14,12))\\r\\nplt.title('Pearson Correlation of Features', y=1.05, size=15)\\r\\nsns.heatmap(train.astype(float).corr(),linewidths=0.1,vmax=1.0, \\r\\n            square=True, cmap=colormap, linecolor='white', annot=True),g = sns.pairplot(train[[u'Survived', u'Pclass', u'Sex', u'Age', u'Parch', u'Fare', u'Embarked',\\r\\n       u'FamilySize', u'Title']], hue='Survived', palette = 'seismic',size=1.2,diag_kind = 'kde',diag_kws=dict(shade=True),plot_kws=dict(s=10) )\\r\\ng.set(xticklabels=[]),ntrain = train.shape[0]\\r\\nntest = test.shape[0]\\r\\nSEED = 0 \\r\\nNFOLDS = 5 \\r\\nkf = KFold(ntrain, n_folds= NFOLDS, random_state=SEED)class SklearnHelper(object):\\r\\n    def __init__(self, clf, seed=0, params=None):\\r\\n        params['random_state'] = seed\\r\\n        self.clf = clf(**params)    def train(self, x_train, y_train):\\r\\n        self.clf.fit(x_train, y_train)    def predict(self, x):\\r\\n        return self.clf.predict(x)\\r\\n    \\r\\n    def fit(self,x,y):\\r\\n        return self.clf.fit(x,y)\""
      ]
     },
     "execution_count": 49,
     "metadata": {},
     "output_type": "execute_result"
    }
   ],
   "source": [
    "'def ' + str(data.loc[4]['tag_import_output'])+':' + exmpl"
   ]
  },
  {
   "cell_type": "code",
   "execution_count": 82,
   "metadata": {},
   "outputs": [
    {
     "data": {
      "text/plain": [
       "'\\n'"
      ]
     },
     "execution_count": 82,
     "metadata": {},
     "output_type": "execute_result"
    }
   ],
   "source": [
    "a = str()\n",
    "a += '\\n\\t'\n",
    "a[0]"
   ]
  },
  {
   "cell_type": "code",
   "execution_count": 84,
   "metadata": {},
   "outputs": [],
   "source": [
    "def add_tabs(exmpl):\n",
    "    new_exmpl = str()\n",
    "    for i in range(len(exmpl)):\n",
    "        if (exmpl[i]=='\\n'):\n",
    "            new_exmpl += '\\n\\t'\n",
    "        else:\n",
    "            new_exmpl += exmpl[i]\n",
    "    return new_exmpl"
   ]
  },
  {
   "cell_type": "code",
   "execution_count": 92,
   "metadata": {},
   "outputs": [
    {
     "data": {
      "text/html": [
       "<div>\n",
       "<style scoped>\n",
       "    .dataframe tbody tr th:only-of-type {\n",
       "        vertical-align: middle;\n",
       "    }\n",
       "\n",
       "    .dataframe tbody tr th {\n",
       "        vertical-align: top;\n",
       "    }\n",
       "\n",
       "    .dataframe thead th {\n",
       "        text-align: right;\n",
       "    }\n",
       "</style>\n",
       "<table border=\"1\" class=\"dataframe\">\n",
       "  <thead>\n",
       "    <tr style=\"text-align: right;\">\n",
       "      <th></th>\n",
       "      <th>code</th>\n",
       "      <th>tag_import_output</th>\n",
       "    </tr>\n",
       "  </thead>\n",
       "  <tbody>\n",
       "    <tr>\n",
       "      <th>0</th>\n",
       "      <td>import matplotlib.pyplot as plt\\r\\nimport seab...</td>\n",
       "      <td>import</td>\n",
       "    </tr>\n",
       "    <tr>\n",
       "      <th>1</th>\n",
       "      <td>cols = ['SalePrice', 'OverallQual', 'GrLivArea...</td>\n",
       "      <td>import</td>\n",
       "    </tr>\n",
       "    <tr>\n",
       "      <th>2</th>\n",
       "      <td>res = stats.probplot(df_train['TotalBsmtSF'], ...</td>\n",
       "      <td>import</td>\n",
       "    </tr>\n",
       "    <tr>\n",
       "      <th>3</th>\n",
       "      <td>age_null_count = dataset['Age'].isnull().s...</td>\n",
       "      <td>0</td>\n",
       "    </tr>\n",
       "    <tr>\n",
       "      <th>4</th>\n",
       "      <td>dataset['Fare'] = dataset['Fare'].astype(i...</td>\n",
       "      <td>0</td>\n",
       "    </tr>\n",
       "    <tr>\n",
       "      <th>...</th>\n",
       "      <td>...</td>\n",
       "      <td>...</td>\n",
       "    </tr>\n",
       "    <tr>\n",
       "      <th>41050</th>\n",
       "      <td>import random\\r\\nimport os\\r\\nimport numpy as ...</td>\n",
       "      <td>import</td>\n",
       "    </tr>\n",
       "    <tr>\n",
       "      <th>41051</th>\n",
       "      <td>content = json.load(file)\\r\\n     ...</td>\n",
       "      <td>import</td>\n",
       "    </tr>\n",
       "    <tr>\n",
       "      <th>41052</th>\n",
       "      <td>\\r\\n            \\r\\n            ab...</td>\n",
       "      <td>import</td>\n",
       "    </tr>\n",
       "    <tr>\n",
       "      <th>41053</th>\n",
       "      <td>phrase = ' '.join(words[idx-4:idx+...</td>\n",
       "      <td>import</td>\n",
       "    </tr>\n",
       "    <tr>\n",
       "      <th>41054</th>\n",
       "      <td>framework='pt')\\r\\n,vectors_age...</td>\n",
       "      <td>import</td>\n",
       "    </tr>\n",
       "  </tbody>\n",
       "</table>\n",
       "<p>41055 rows × 2 columns</p>\n",
       "</div>"
      ],
      "text/plain": [
       "                                                    code tag_import_output\n",
       "0      import matplotlib.pyplot as plt\\r\\nimport seab...            import\n",
       "1      cols = ['SalePrice', 'OverallQual', 'GrLivArea...            import\n",
       "2      res = stats.probplot(df_train['TotalBsmtSF'], ...            import\n",
       "3          age_null_count = dataset['Age'].isnull().s...                 0\n",
       "4          dataset['Fare'] = dataset['Fare'].astype(i...                 0\n",
       "...                                                  ...               ...\n",
       "41050  import random\\r\\nimport os\\r\\nimport numpy as ...            import\n",
       "41051              content = json.load(file)\\r\\n     ...            import\n",
       "41052              \\r\\n            \\r\\n            ab...            import\n",
       "41053              phrase = ' '.join(words[idx-4:idx+...            import\n",
       "41054                 framework='pt')\\r\\n,vectors_age...            import\n",
       "\n",
       "[41055 rows x 2 columns]"
      ]
     },
     "execution_count": 92,
     "metadata": {},
     "output_type": "execute_result"
    }
   ],
   "source": [
    "data.loc[data['tag_import_output'] == 1, 'tag_import_output'] = 'import'\n",
    "data"
   ]
  },
  {
   "cell_type": "code",
   "execution_count": 93,
   "metadata": {},
   "outputs": [
    {
     "data": {
      "text/html": [
       "<div>\n",
       "<style scoped>\n",
       "    .dataframe tbody tr th:only-of-type {\n",
       "        vertical-align: middle;\n",
       "    }\n",
       "\n",
       "    .dataframe tbody tr th {\n",
       "        vertical-align: top;\n",
       "    }\n",
       "\n",
       "    .dataframe thead th {\n",
       "        text-align: right;\n",
       "    }\n",
       "</style>\n",
       "<table border=\"1\" class=\"dataframe\">\n",
       "  <thead>\n",
       "    <tr style=\"text-align: right;\">\n",
       "      <th></th>\n",
       "      <th>code</th>\n",
       "      <th>tag_import_output</th>\n",
       "    </tr>\n",
       "  </thead>\n",
       "  <tbody>\n",
       "    <tr>\n",
       "      <th>0</th>\n",
       "      <td>import matplotlib.pyplot as plt\\r\\nimport seab...</td>\n",
       "      <td>import</td>\n",
       "    </tr>\n",
       "    <tr>\n",
       "      <th>1</th>\n",
       "      <td>cols = ['SalePrice', 'OverallQual', 'GrLivArea...</td>\n",
       "      <td>import</td>\n",
       "    </tr>\n",
       "    <tr>\n",
       "      <th>2</th>\n",
       "      <td>res = stats.probplot(df_train['TotalBsmtSF'], ...</td>\n",
       "      <td>import</td>\n",
       "    </tr>\n",
       "    <tr>\n",
       "      <th>3</th>\n",
       "      <td>age_null_count = dataset['Age'].isnull().s...</td>\n",
       "      <td>notimport</td>\n",
       "    </tr>\n",
       "    <tr>\n",
       "      <th>4</th>\n",
       "      <td>dataset['Fare'] = dataset['Fare'].astype(i...</td>\n",
       "      <td>notimport</td>\n",
       "    </tr>\n",
       "    <tr>\n",
       "      <th>...</th>\n",
       "      <td>...</td>\n",
       "      <td>...</td>\n",
       "    </tr>\n",
       "    <tr>\n",
       "      <th>41050</th>\n",
       "      <td>import random\\r\\nimport os\\r\\nimport numpy as ...</td>\n",
       "      <td>import</td>\n",
       "    </tr>\n",
       "    <tr>\n",
       "      <th>41051</th>\n",
       "      <td>content = json.load(file)\\r\\n     ...</td>\n",
       "      <td>import</td>\n",
       "    </tr>\n",
       "    <tr>\n",
       "      <th>41052</th>\n",
       "      <td>\\r\\n            \\r\\n            ab...</td>\n",
       "      <td>import</td>\n",
       "    </tr>\n",
       "    <tr>\n",
       "      <th>41053</th>\n",
       "      <td>phrase = ' '.join(words[idx-4:idx+...</td>\n",
       "      <td>import</td>\n",
       "    </tr>\n",
       "    <tr>\n",
       "      <th>41054</th>\n",
       "      <td>framework='pt')\\r\\n,vectors_age...</td>\n",
       "      <td>import</td>\n",
       "    </tr>\n",
       "  </tbody>\n",
       "</table>\n",
       "<p>41055 rows × 2 columns</p>\n",
       "</div>"
      ],
      "text/plain": [
       "                                                    code tag_import_output\n",
       "0      import matplotlib.pyplot as plt\\r\\nimport seab...            import\n",
       "1      cols = ['SalePrice', 'OverallQual', 'GrLivArea...            import\n",
       "2      res = stats.probplot(df_train['TotalBsmtSF'], ...            import\n",
       "3          age_null_count = dataset['Age'].isnull().s...         notimport\n",
       "4          dataset['Fare'] = dataset['Fare'].astype(i...         notimport\n",
       "...                                                  ...               ...\n",
       "41050  import random\\r\\nimport os\\r\\nimport numpy as ...            import\n",
       "41051              content = json.load(file)\\r\\n     ...            import\n",
       "41052              \\r\\n            \\r\\n            ab...            import\n",
       "41053              phrase = ' '.join(words[idx-4:idx+...            import\n",
       "41054                 framework='pt')\\r\\n,vectors_age...            import\n",
       "\n",
       "[41055 rows x 2 columns]"
      ]
     },
     "execution_count": 93,
     "metadata": {},
     "output_type": "execute_result"
    }
   ],
   "source": [
    "data.loc[data['tag_import_output'] == 0, 'tag_import_output'] = 'notimport'\n",
    "data"
   ]
  },
  {
   "cell_type": "code",
   "execution_count": 94,
   "metadata": {},
   "outputs": [],
   "source": [
    "names = ['my_train', 'my_test', 'my_val']\n",
    "for j in range(len(names)):\n",
    "    for i in range(j*20, j*20+20):\n",
    "        exmpl = data.loc[i].values[0]\n",
    "        exmpl = add_tabs(exmpl)\n",
    "        print('def func' + str(data.loc[i]['tag_import_output'])+'():\\n\\t' + exmpl\n",
    "              ,  file=open('/home/kirill/code2vec/cd2vec/python/'+str(names[j])+'/func'+str(i)+'.py', 'w'))"
   ]
  },
  {
   "cell_type": "code",
   "execution_count": null,
   "metadata": {},
   "outputs": [],
   "source": []
  },
  {
   "cell_type": "code",
   "execution_count": null,
   "metadata": {},
   "outputs": [],
   "source": []
  },
  {
   "cell_type": "code",
   "execution_count": null,
   "metadata": {},
   "outputs": [],
   "source": []
  },
  {
   "cell_type": "code",
   "execution_count": null,
   "metadata": {},
   "outputs": [],
   "source": []
  },
  {
   "cell_type": "code",
   "execution_count": 834,
   "metadata": {},
   "outputs": [],
   "source": [
    "tokens = pd.read_csv('//home/kirill/code2vec/my_dataset_train/tokens.csv')"
   ]
  },
  {
   "cell_type": "code",
   "execution_count": 843,
   "metadata": {},
   "outputs": [
    {
     "data": {
      "text/html": [
       "<div>\n",
       "<style scoped>\n",
       "    .dataframe tbody tr th:only-of-type {\n",
       "        vertical-align: middle;\n",
       "    }\n",
       "\n",
       "    .dataframe tbody tr th {\n",
       "        vertical-align: top;\n",
       "    }\n",
       "\n",
       "    .dataframe thead th {\n",
       "        text-align: right;\n",
       "    }\n",
       "</style>\n",
       "<table border=\"1\" class=\"dataframe\">\n",
       "  <thead>\n",
       "    <tr style=\"text-align: right;\">\n",
       "      <th></th>\n",
       "      <th>id</th>\n",
       "      <th>token</th>\n",
       "    </tr>\n",
       "  </thead>\n",
       "  <tbody>\n",
       "    <tr>\n",
       "      <th>3997</th>\n",
       "      <td>20</td>\n",
       "      <td>yvalid</td>\n",
       "    </tr>\n",
       "  </tbody>\n",
       "</table>\n",
       "</div>"
      ],
      "text/plain": [
       "      id   token\n",
       "3997  20  yvalid"
      ]
     },
     "execution_count": 843,
     "metadata": {},
     "output_type": "execute_result"
    }
   ],
   "source": [
    "tokens[tokens['id'] == 20]"
   ]
  },
  {
   "cell_type": "markdown",
   "metadata": {},
   "source": [
    "yvalid -> ??? -> finalxtrain"
   ]
  },
  {
   "cell_type": "code",
   "execution_count": null,
   "metadata": {},
   "outputs": [],
   "source": []
  }
 ],
 "metadata": {
  "kernelspec": {
   "display_name": "Python 3",
   "language": "python",
   "name": "python3"
  },
  "language_info": {
   "codemirror_mode": {
    "name": "ipython",
    "version": 3
   },
   "file_extension": ".py",
   "mimetype": "text/x-python",
   "name": "python",
   "nbconvert_exporter": "python",
   "pygments_lexer": "ipython3",
   "version": "3.6.9"
  }
 },
 "nbformat": 4,
 "nbformat_minor": 4
}
